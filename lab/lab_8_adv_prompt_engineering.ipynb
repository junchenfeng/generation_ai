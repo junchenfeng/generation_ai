{
 "cells": [
  {
   "cell_type": "markdown",
   "metadata": {},
   "source": [
    "# Lab 8 - Evidence-based Prompt Iteration"
   ]
  },
  {
   "cell_type": "markdown",
   "metadata": {},
   "source": [
    "在不改变基座模型的前提下，通过提示词可以实质性提高模型的表现。\n",
    "\n",
    "因为提示词是自然语言构建的，因此提示词给了人们一个通过自然语言编程来生产app的机会。在我看来这是革命性的进展。\n",
    "\n",
    "在上一讲中，我们已经介绍了如何编写第一个user prompt，这只是cold start，更多的工作是要在后续的工作中不断发现bad case，并且通过提示词去修复。这是目前我所了解的，最靠谱的提示词迭代方式。"
   ]
  },
  {
   "cell_type": "markdown",
   "metadata": {},
   "source": [
    "# 1. 项目背景\n",
    "\n",
    "## 1.1 业务介绍\n",
    "一个服务团队要检查其员工是否通知学生补课。下述两个条件是他们的“质检规则”\n",
    "\n",
    "    - 通过企业微信发送了补课消息，就算通知\n",
    "    - 进行了电话外呼（即使没有接通），也算通知\n",
    "\n",
    "员工可能在当天进行了上课提醒，这不是补课通知。\n",
    "\n",
    "\n",
    "## 1.2数据集\n",
    "`classification_sample.csv`有3列，第一列是`text`，代表企微聊天记录；第二列是`callout`，代表外呼次数；第三列是`flag`，代表业务团队专家判断的是否通过了“质检”。\n",
    "\n",
    "## 1.3 任务\n",
    "利用提示词，训练一个模型，能够自动判断员工是否通过了“质检”。"
   ]
  },
  {
   "cell_type": "markdown",
   "metadata": {},
   "source": [
    "# 2. LLM Classifier\n",
    "## 2.1 Baseline"
   ]
  },
  {
   "cell_type": "code",
   "execution_count": 8,
   "metadata": {},
   "outputs": [],
   "source": [
    "import os\n",
    "from dotenv import load_dotenv\n",
    "import pandas as pd\n",
    "\n",
    "load_dotenv()  # 敏感信息不能明文展示\n",
    "api_key = os.getenv('OPENAI_API_KEY')\n",
    "\n",
    "from openai import OpenAI\n",
    "\n",
    "client = OpenAI(\n",
    "            api_key=api_key,\n",
    "            base_url=\"https://api.aaaapi.com/v1\")"
   ]
  },
  {
   "cell_type": "code",
   "execution_count": 3,
   "metadata": {},
   "outputs": [],
   "source": [
    "data = pd.read_csv(\"../data/classification_sample.csv\")"
   ]
  },
  {
   "cell_type": "code",
   "execution_count": 12,
   "metadata": {},
   "outputs": [],
   "source": [
    "def classify_with_llm(prompt):\n",
    "    response = client.chat.completions.create(\n",
    "        model=\"gpt-4o-mini\",\n",
    "        messages=[\n",
    "            {\"role\": \"system\", \"content\": prompt}\n",
    "        ],\n",
    "        response_format={\"type\": \"json_object\"}  # 返回json格式，以免解析问题\n",
    "    )\n",
    "    return response.choices[0].message.content"
   ]
  },
  {
   "cell_type": "code",
   "execution_count": 10,
   "metadata": {},
   "outputs": [],
   "source": [
    "def _construct_prompt(text, callout):\n",
    "    return f\"\"\"\n",
    "    ```\n",
    "    你在检查LA是否向用户发起了补课提醒。\n",
    "    如果沟通记录中包含补课消息，则flag为1；否则为0。\n",
    "    你要检查的沟通记录是\n",
    "    {text}\n",
    "\n",
    "    对该用户的外呼次数是{callout}。如果外呼次数大于1，则flag为1，否则为0\n",
    "\n",
    "    你的输出结果是一个json{{\"flag\": 0/1}}\n",
    "    ```\n",
    "    \"\"\""
   ]
  },
  {
   "cell_type": "code",
   "execution_count": 14,
   "metadata": {},
   "outputs": [],
   "source": [
    "# 创建一个空列表来存储预测结果\n",
    "predicted_flags = []\n",
    "\n",
    "# 遍历数据集并获取预测\n",
    "\n",
    "for index, row in data.iterrows():\n",
    "    flag = classify_with_llm(_construct_prompt(row[\"text\"], row[\"callout\"]))\n",
    "    predicted_flags.append(flag)\n",
    "\n",
    "# 将预测结果添加到数据集中\n",
    "data[\"predicted_flag\"] = predicted_flags\n",
    "\n"
   ]
  },
  {
   "cell_type": "code",
   "execution_count": null,
   "metadata": {},
   "outputs": [],
   "source": [
    "from sklearn.metrics import classification_report\n",
    "import json\n",
    "\n",
    "# 将json字符串转换为数值\n",
    "data['predicted_flag_numeric'] = data['predicted_flag'].apply(lambda x: json.loads(x)['flag'])\n",
    "\n",
    "# 计算F1分数\n",
    "perf = classification_report(data['flag'], data['predicted_flag_numeric'])\n",
    "print(perf)\n"
   ]
  },
  {
   "cell_type": "markdown",
   "metadata": {},
   "source": [
    "# 2.2 迭代\n",
    "\n",
    "找到flag=1但是predicted_flag=0的case，或者flag=0但是predicted_flag=1的case。\n",
    "\n",
    "分析这些case，看如何优化你的提示词。\n",
    "\n",
    "在优化时，最好遵循这样的实践：\n",
    "\n",
    "    1. 首先验证修改后的提示词是否正确解决这个case\n",
    "    2. 重跑所有case，看看其他case是否有变化。如果其他case的效果恶化严重，那么需要放弃这个修改\n",
    "\n",
    "\n",
    "考虑你可以使用的工具：\n",
    "\n",
    "    - 使用KIMI 模版来结构化输出业务判定规则，具体说明什么叫补课\n",
    "    - 提供一些case来向大模型“解释”你的判定规则\n",
    "\n",
    "\n"
   ]
  }
 ],
 "metadata": {
  "kernelspec": {
   "display_name": "generation-ai-pKB8m0do-py3.11",
   "language": "python",
   "name": "python3"
  },
  "language_info": {
   "codemirror_mode": {
    "name": "ipython",
    "version": 3
   },
   "file_extension": ".py",
   "mimetype": "text/x-python",
   "name": "python",
   "nbconvert_exporter": "python",
   "pygments_lexer": "ipython3",
   "version": "3.11.2"
  }
 },
 "nbformat": 4,
 "nbformat_minor": 2
}
