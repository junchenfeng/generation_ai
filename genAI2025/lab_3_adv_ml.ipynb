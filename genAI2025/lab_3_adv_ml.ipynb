{
 "cells": [
  {
   "cell_type": "markdown",
   "metadata": {},
   "source": []
  },
  {
   "cell_type": "markdown",
   "metadata": {},
   "source": [
    "# Lab 3: 机器学习进阶技巧：特征工程和集成(Ensemble)模型"
   ]
  },
  {
   "cell_type": "markdown",
   "metadata": {},
   "source": [
    "# Review\n",
    "\n",
    "- Q1: 上节课机器学习的三个关键步骤是什么？\n",
    "- Q2: 怎么理解AUC？\n",
    "- Q3: 怎么知道你是否过拟合了？\n",
    "- Q4: 怎么进行parameter grid的选择？"
   ]
  },
  {
   "cell_type": "markdown",
   "metadata": {},
   "source": [
    "## 2.1 Context \n",
    "\n",
    "### 2.1.1 元数据(Metadata)\n",
    "| Column | Description | Type |\n",
    "|--------|-------------|------|\n",
    "| person_age | Age of the person | Float |\n",
    "| person_gender | Gender of the person | Categorical |\n",
    "| person_education | Highest education level | Categorical |\n",
    "| person_income | Annual income | Float |\n",
    "| person_emp_exp | Years of employment experience | Integer |\n",
    "| person_home_ownership | Home ownership status (e.g., rent, own, mortgage) | Categorical |\n",
    "| loan_amnt | Loan amount requested | Float |\n",
    "| loan_intent | Purpose of the loan | Categorical |\n",
    "| loan_int_rate | Loan interest rate | Float |\n",
    "| cb_person_cred_hist_length | Length of credit history in years | Float |\n",
    "| credit_score | Credit score of the person | Integer |\n",
    "| loan_status (target variable) | Loan approval status: 1 = approved; 0 = rejected | Integer |\n",
    "\n",
    "### 2.1.2 提供技术环境信息\n",
    "\n",
    "- 请使用pandas， matplotlib， sklearn这三个python package（也可以在mdc文件中设置）\n",
    "\n",
    "- 项目目录结构\n",
    "```\n",
    "|\n",
    "|- data // 数据目录\n",
    "|   |-- loan_data.csv\n",
    "|- lab.ipynb\n",
    "```"
   ]
  },
  {
   "cell_type": "code",
   "execution_count": 1,
   "metadata": {},
   "outputs": [],
   "source": [
    "import pandas as pd\n",
    "from sklearn.model_selection import train_test_split\n",
    "\n",
    "import matplotlib.pyplot as plt\n",
    "# 设置中文字体\n",
    "try:\n",
    "    plt.rcParams['font.sans-serif'] = ['Heiti TC'] # 或者 'Arial Unicode MS', 'PingFang SC' 等\n",
    "    plt.rcParams['axes.unicode_minus'] = False\n",
    "except Exception as e:\n",
    "    print(f\"设置中文字体失败: {e}。标签可能显示不正确。\")"
   ]
  },
  {
   "cell_type": "code",
   "execution_count": 14,
   "metadata": {},
   "outputs": [],
   "source": [
    "data = pd.read_csv('data/loan_data.csv').query('previous_loan_defaults_on_file==\"No\"')\n",
    "X = data.drop('loan_status', axis=1)\n",
    "y = data['loan_status']\n",
    "\n",
    "\n",
    "X_train, X_test, y_train, y_test = train_test_split(X, y, test_size=0.3, random_state=42)"
   ]
  },
  {
   "cell_type": "markdown",
   "metadata": {},
   "source": [
    "# 1. 特征工程"
   ]
  },
  {
   "cell_type": "markdown",
   "metadata": {},
   "source": [
    "## 1.1 基础特征工程"
   ]
  },
  {
   "cell_type": "markdown",
   "metadata": {},
   "source": [
    "特征工程一般有以下几种操作\n",
    "\n",
    "- 异常值处理：（审慎）删除，以某个极值替代（例如年龄cap在100岁）\n",
    "\n",
    "- 缺失值处理：删除【不推荐】，以均值或者众数填写\n",
    "\n",
    "- One-hot Encoding：某些数据集会用数字来存储离散变量，再给一个code book（特别是社会科学的数据集，为了适配SPSS和Stata）。如果不做One-hot encoding会被当作数值变量处理\n",
    "\n",
    "- 特征缩放：这避免某些特征的尺度对于其他特征的影响。比如把某个省的GDP和它的上年增长率放在一起，GDP的尺度会对于模型产生显著影响。特征缩放有两种常见方法，正态化或者range归一\n",
    "\n",
    "- 高阶项（和交叉项）：虽然高阶项对于不同模型的好处并不完全相同，但是一般使用高阶项实际上是在做一个泰勒展开，去近似更复杂的function form（特别是对于SVM/Logit这样的线性模型）"
   ]
  },
  {
   "cell_type": "markdown",
   "metadata": {},
   "source": [
    "这一节我们主要展示特征缩放和高阶项。\n",
    "\n",
    "```\n",
    "请构建一个pipeline，包含\n",
    "1. 对于person_income,loan_amnt,credit_score的正态化scaling和对于person_age的range归一\n",
    "2. 将上面两种变化后的变量 构建2阶polynomial\n",
    "2. 对所有的categorical 做one-hot encoding，并构建2阶interaction only的polynomial\n",
    "3. 使用decision tree classifer，基于auc_roc的5 fold crossvalidation 对criterion，max_depth，min_samples_split和min_samples_leaf四个参数进行grid search\n",
    "\n",
    "汇报在train和test数据上的AUC，并将两个数据集的ROC画到一张图上\n",
    "```"
   ]
  },
  {
   "cell_type": "markdown",
   "metadata": {},
   "source": [
    "### 讨论\n",
    "1. pipeline在其中起了什么作用？\n",
    "2. 增加了特征后，模型表现变好了还是变差了？为什么？"
   ]
  },
  {
   "cell_type": "markdown",
   "metadata": {},
   "source": [
    "## 1.2 创建业务特征"
   ]
  },
  {
   "cell_type": "markdown",
   "metadata": {},
   "source": [
    "上一节课的结尾，我说这节课我们会开始code insight。 其中一个重要的做法就是做特征。比如，在贷款业务中，income/loan ratio 是一个非常重要的业务指标，而在我们之前的特征工程中，很难去准确复现这个特征"
   ]
  },
  {
   "cell_type": "markdown",
   "metadata": {},
   "source": [
    "```\n",
    "请写一个简单的脚本，在原始data里创建一个新变量，loan_percent_income =  loan_amnt/person_income。使用相同的random state做7:3的train test split，不做pipeline特征工程，仅使用loan_percent_income两个变量做预测，汇报相同的的指标\n",
    "```"
   ]
  },
  {
   "cell_type": "markdown",
   "metadata": {},
   "source": [
    "# 2. Ensemble 模型"
   ]
  },
  {
   "cell_type": "markdown",
   "metadata": {},
   "source": [
    "code insight的另一个重要方法是选择模型。在传统的统计学中（特别是在计量经济学中），选择用什么样的模型来描述数据生成过程是一个大学问。例如在经典的排队问题中，使用泊松模型还是负二次项模型大有讲究。如果未来你在硕士阶段选择了机器学习或者统计学，你会有大量时间花在研究似然函数（Likelihood function）上。\n",
    "\n",
    "但是在Ensemble模型出现后，这个工作对于大部分场景而言已经不那么重要了。依靠算力大力飞砖被证明是性价比更高的选择。"
   ]
  },
  {
   "cell_type": "markdown",
   "metadata": {},
   "source": [
    "## 2.1 Random Forest"
   ]
  },
  {
   "cell_type": "markdown",
   "metadata": {},
   "source": [
    "将pipeline中的decision tree变成random forest，重新估计pipeline，并比较新的结果"
   ]
  },
  {
   "cell_type": "markdown",
   "metadata": {},
   "source": [
    "让我们看一棵树 【JC DEMO Only】"
   ]
  },
  {
   "cell_type": "code",
   "execution_count": 5,
   "metadata": {},
   "outputs": [
    {
     "data": {
      "image/svg+xml": [
       "<?xml version=\"1.0\" encoding=\"UTF-8\" standalone=\"no\"?>\n",
       "<!DOCTYPE svg PUBLIC \"-//W3C//DTD SVG 1.1//EN\"\n",
       " \"http://www.w3.org/Graphics/SVG/1.1/DTD/svg11.dtd\">\n",
       "<!-- Generated by graphviz version 12.2.0 (20241103.1931)\n",
       " -->\n",
       "<!-- Title: Tree Pages: 1 -->\n",
       "<svg width=\"624pt\" height=\"520pt\"\n",
       " viewBox=\"0.00 0.00 623.88 520.00\" xmlns=\"http://www.w3.org/2000/svg\" xmlns:xlink=\"http://www.w3.org/1999/xlink\">\n",
       "<g id=\"graph0\" class=\"graph\" transform=\"scale(1 1) rotate(0) translate(4 516)\">\n",
       "<title>Tree</title>\n",
       "<polygon fill=\"white\" stroke=\"none\" points=\"-4,4 -4,-516 619.88,-516 619.88,4 -4,4\"/>\n",
       "<!-- 0 -->\n",
       "<g id=\"node1\" class=\"node\">\n",
       "<title>0</title>\n",
       "<path fill=\"#fae7d9\" stroke=\"black\" d=\"M352.12,-512C352.12,-512 12.87,-512 12.87,-512 6.88,-512 0.88,-506 0.88,-500 0.88,-500 0.88,-441 0.88,-441 0.88,-435 6.88,-429 12.88,-429 12.88,-429 352.12,-429 352.12,-429 358.12,-429 364.12,-435 364.12,-441 364.12,-441 364.12,-500 364.12,-500 364.12,-506 358.12,-512 352.12,-512\"/>\n",
       "<text text-anchor=\"start\" x=\"8.88\" y=\"-494.7\" font-family=\"Helvetica,sans-Serif\" font-size=\"14.00\">previous_loan_defaults_on_file_Yes credit_score ≤ &#45;0.005</text>\n",
       "<text text-anchor=\"start\" x=\"147.25\" y=\"-479.7\" font-family=\"Helvetica,sans-Serif\" font-size=\"14.00\">gini = 0.494</text>\n",
       "<text text-anchor=\"start\" x=\"134.12\" y=\"-464.7\" font-family=\"Helvetica,sans-Serif\" font-size=\"14.00\">samples = 1014</text>\n",
       "<text text-anchor=\"start\" x=\"128.5\" y=\"-449.7\" font-family=\"Helvetica,sans-Serif\" font-size=\"14.00\">value = [884, 716]</text>\n",
       "<text text-anchor=\"start\" x=\"155.5\" y=\"-434.7\" font-family=\"Helvetica,sans-Serif\" font-size=\"14.00\">class = 0</text>\n",
       "</g>\n",
       "<!-- 1 -->\n",
       "<g id=\"node2\" class=\"node\">\n",
       "<title>1</title>\n",
       "<path fill=\"#e58139\" stroke=\"black\" d=\"M97,-385.5C97,-385.5 12,-385.5 12,-385.5 6,-385.5 0,-379.5 0,-373.5 0,-373.5 0,-329.5 0,-329.5 0,-323.5 6,-317.5 12,-317.5 12,-317.5 97,-317.5 97,-317.5 103,-317.5 109,-323.5 109,-329.5 109,-329.5 109,-373.5 109,-373.5 109,-379.5 103,-385.5 97,-385.5\"/>\n",
       "<text text-anchor=\"start\" x=\"26.75\" y=\"-368.2\" font-family=\"Helvetica,sans-Serif\" font-size=\"14.00\">gini = 0.0</text>\n",
       "<text text-anchor=\"start\" x=\"9.88\" y=\"-353.2\" font-family=\"Helvetica,sans-Serif\" font-size=\"14.00\">samples = 197</text>\n",
       "<text text-anchor=\"start\" x=\"8\" y=\"-338.2\" font-family=\"Helvetica,sans-Serif\" font-size=\"14.00\">value = [305, 0]</text>\n",
       "<text text-anchor=\"start\" x=\"27.5\" y=\"-323.2\" font-family=\"Helvetica,sans-Serif\" font-size=\"14.00\">class = 0</text>\n",
       "</g>\n",
       "<!-- 0&#45;&gt;1 -->\n",
       "<g id=\"edge1\" class=\"edge\">\n",
       "<title>0&#45;&gt;1</title>\n",
       "<path fill=\"none\" stroke=\"black\" d=\"M137.73,-428.58C125.31,-417.23 111.83,-404.9 99.41,-393.55\"/>\n",
       "<polygon fill=\"black\" stroke=\"black\" points=\"101.86,-391.05 92.11,-386.88 97.13,-396.21 101.86,-391.05\"/>\n",
       "<text text-anchor=\"middle\" x=\"92.12\" y=\"-405.04\" font-family=\"Helvetica,sans-Serif\" font-size=\"14.00\">True</text>\n",
       "</g>\n",
       "<!-- 2 -->\n",
       "<g id=\"node3\" class=\"node\">\n",
       "<title>2</title>\n",
       "<path fill=\"#d9ecfa\" stroke=\"black\" d=\"M482.38,-393C482.38,-393 138.62,-393 138.62,-393 132.62,-393 126.62,-387 126.62,-381 126.62,-381 126.62,-322 126.62,-322 126.62,-316 132.62,-310 138.62,-310 138.62,-310 482.38,-310 482.38,-310 488.38,-310 494.38,-316 494.38,-322 494.38,-322 494.38,-381 494.38,-381 494.38,-387 488.38,-393 482.38,-393\"/>\n",
       "<text text-anchor=\"start\" x=\"134.62\" y=\"-375.7\" font-family=\"Helvetica,sans-Serif\" font-size=\"14.00\">previous_loan_defaults_on_file_Yes loan_int_rate ≤ &#45;0.007</text>\n",
       "<text text-anchor=\"start\" x=\"275.25\" y=\"-360.7\" font-family=\"Helvetica,sans-Serif\" font-size=\"14.00\">gini = 0.494</text>\n",
       "<text text-anchor=\"start\" x=\"265.88\" y=\"-345.7\" font-family=\"Helvetica,sans-Serif\" font-size=\"14.00\">samples = 817</text>\n",
       "<text text-anchor=\"start\" x=\"256.5\" y=\"-330.7\" font-family=\"Helvetica,sans-Serif\" font-size=\"14.00\">value = [579, 716]</text>\n",
       "<text text-anchor=\"start\" x=\"283.5\" y=\"-315.7\" font-family=\"Helvetica,sans-Serif\" font-size=\"14.00\">class = 1</text>\n",
       "</g>\n",
       "<!-- 0&#45;&gt;2 -->\n",
       "<g id=\"edge2\" class=\"edge\">\n",
       "<title>0&#45;&gt;2</title>\n",
       "<path fill=\"none\" stroke=\"black\" d=\"M227.27,-428.58C237.07,-419.62 247.53,-410.06 257.62,-400.84\"/>\n",
       "<polygon fill=\"black\" stroke=\"black\" points=\"259.84,-403.55 264.86,-394.22 255.11,-398.38 259.84,-403.55\"/>\n",
       "<text text-anchor=\"middle\" x=\"264.85\" y=\"-412.38\" font-family=\"Helvetica,sans-Serif\" font-size=\"14.00\">False</text>\n",
       "</g>\n",
       "<!-- 3 -->\n",
       "<g id=\"node4\" class=\"node\">\n",
       "<title>3</title>\n",
       "<path fill=\"#e58139\" stroke=\"black\" d=\"M227,-266.5C227,-266.5 142,-266.5 142,-266.5 136,-266.5 130,-260.5 130,-254.5 130,-254.5 130,-210.5 130,-210.5 130,-204.5 136,-198.5 142,-198.5 142,-198.5 227,-198.5 227,-198.5 233,-198.5 239,-204.5 239,-210.5 239,-210.5 239,-254.5 239,-254.5 239,-260.5 233,-266.5 227,-266.5\"/>\n",
       "<text text-anchor=\"start\" x=\"156.75\" y=\"-249.2\" font-family=\"Helvetica,sans-Serif\" font-size=\"14.00\">gini = 0.0</text>\n",
       "<text text-anchor=\"start\" x=\"139.88\" y=\"-234.2\" font-family=\"Helvetica,sans-Serif\" font-size=\"14.00\">samples = 114</text>\n",
       "<text text-anchor=\"start\" x=\"138\" y=\"-219.2\" font-family=\"Helvetica,sans-Serif\" font-size=\"14.00\">value = [186, 0]</text>\n",
       "<text text-anchor=\"start\" x=\"157.5\" y=\"-204.2\" font-family=\"Helvetica,sans-Serif\" font-size=\"14.00\">class = 0</text>\n",
       "</g>\n",
       "<!-- 2&#45;&gt;3 -->\n",
       "<g id=\"edge3\" class=\"edge\">\n",
       "<title>2&#45;&gt;3</title>\n",
       "<path fill=\"none\" stroke=\"black\" d=\"M266.43,-309.58C254.21,-298.23 240.94,-285.9 228.7,-274.55\"/>\n",
       "<polygon fill=\"black\" stroke=\"black\" points=\"231.25,-272.13 221.54,-267.89 226.48,-277.26 231.25,-272.13\"/>\n",
       "</g>\n",
       "<!-- 4 -->\n",
       "<g id=\"node5\" class=\"node\">\n",
       "<title>4</title>\n",
       "<path fill=\"#a6d3f3\" stroke=\"black\" d=\"M603.88,-274C603.88,-274 269.12,-274 269.12,-274 263.12,-274 257.12,-268 257.12,-262 257.12,-262 257.12,-203 257.12,-203 257.12,-197 263.12,-191 269.12,-191 269.12,-191 603.88,-191 603.88,-191 609.88,-191 615.88,-197 615.88,-203 615.88,-203 615.88,-262 615.88,-262 615.88,-268 609.88,-274 603.88,-274\"/>\n",
       "<text text-anchor=\"start\" x=\"265.12\" y=\"-256.7\" font-family=\"Helvetica,sans-Serif\" font-size=\"14.00\">previous_loan_defaults_on_file_Yes credit_score ≤ 0.005</text>\n",
       "<text text-anchor=\"start\" x=\"401.25\" y=\"-241.7\" font-family=\"Helvetica,sans-Serif\" font-size=\"14.00\">gini = 0.458</text>\n",
       "<text text-anchor=\"start\" x=\"391.88\" y=\"-226.7\" font-family=\"Helvetica,sans-Serif\" font-size=\"14.00\">samples = 703</text>\n",
       "<text text-anchor=\"start\" x=\"382.5\" y=\"-211.7\" font-family=\"Helvetica,sans-Serif\" font-size=\"14.00\">value = [393, 716]</text>\n",
       "<text text-anchor=\"start\" x=\"409.5\" y=\"-196.7\" font-family=\"Helvetica,sans-Serif\" font-size=\"14.00\">class = 1</text>\n",
       "</g>\n",
       "<!-- 2&#45;&gt;4 -->\n",
       "<g id=\"edge4\" class=\"edge\">\n",
       "<title>2&#45;&gt;4</title>\n",
       "<path fill=\"none\" stroke=\"black\" d=\"M354.57,-309.58C364.22,-300.62 374.52,-291.06 384.44,-281.84\"/>\n",
       "<polygon fill=\"black\" stroke=\"black\" points=\"386.61,-284.6 391.56,-275.23 381.85,-279.47 386.61,-284.6\"/>\n",
       "</g>\n",
       "<!-- 5 -->\n",
       "<g id=\"node6\" class=\"node\">\n",
       "<title>5</title>\n",
       "<path fill=\"#87c4ef\" stroke=\"black\" d=\"M469.88,-155C469.88,-155 165.12,-155 165.12,-155 159.12,-155 153.12,-149 153.12,-143 153.12,-143 153.12,-84 153.12,-84 153.12,-78 159.12,-72 165.12,-72 165.12,-72 469.88,-72 469.88,-72 475.88,-72 481.88,-78 481.88,-84 481.88,-84 481.88,-143 481.88,-143 481.88,-149 475.88,-155 469.88,-155\"/>\n",
       "<text text-anchor=\"start\" x=\"161.12\" y=\"-137.7\" font-family=\"Helvetica,sans-Serif\" font-size=\"14.00\">person_home_ownership_RENT loan_amnt ≤ 0.319</text>\n",
       "<text text-anchor=\"start\" x=\"282.25\" y=\"-122.7\" font-family=\"Helvetica,sans-Serif\" font-size=\"14.00\">gini = 0.405</text>\n",
       "<text text-anchor=\"start\" x=\"272.88\" y=\"-107.7\" font-family=\"Helvetica,sans-Serif\" font-size=\"14.00\">samples = 626</text>\n",
       "<text text-anchor=\"start\" x=\"263.5\" y=\"-92.7\" font-family=\"Helvetica,sans-Serif\" font-size=\"14.00\">value = [282, 716]</text>\n",
       "<text text-anchor=\"start\" x=\"290.5\" y=\"-77.7\" font-family=\"Helvetica,sans-Serif\" font-size=\"14.00\">class = 1</text>\n",
       "</g>\n",
       "<!-- 4&#45;&gt;5 -->\n",
       "<g id=\"edge5\" class=\"edge\">\n",
       "<title>4&#45;&gt;5</title>\n",
       "<path fill=\"none\" stroke=\"black\" d=\"M394.88,-190.58C385.86,-181.71 376.24,-172.25 366.95,-163.12\"/>\n",
       "<polygon fill=\"black\" stroke=\"black\" points=\"369.56,-160.78 359.98,-156.26 364.65,-165.77 369.56,-160.78\"/>\n",
       "</g>\n",
       "<!-- 198 -->\n",
       "<g id=\"node9\" class=\"node\">\n",
       "<title>198</title>\n",
       "<path fill=\"#e58139\" stroke=\"black\" d=\"M596.62,-147.5C596.62,-147.5 512.38,-147.5 512.38,-147.5 506.38,-147.5 500.38,-141.5 500.38,-135.5 500.38,-135.5 500.38,-91.5 500.38,-91.5 500.38,-85.5 506.38,-79.5 512.38,-79.5 512.38,-79.5 596.62,-79.5 596.62,-79.5 602.62,-79.5 608.62,-85.5 608.62,-91.5 608.62,-91.5 608.62,-135.5 608.62,-135.5 608.62,-141.5 602.62,-147.5 596.62,-147.5\"/>\n",
       "<text text-anchor=\"start\" x=\"526.75\" y=\"-130.2\" font-family=\"Helvetica,sans-Serif\" font-size=\"14.00\">gini = 0.0</text>\n",
       "<text text-anchor=\"start\" x=\"513.62\" y=\"-115.2\" font-family=\"Helvetica,sans-Serif\" font-size=\"14.00\">samples = 77</text>\n",
       "<text text-anchor=\"start\" x=\"508.38\" y=\"-100.2\" font-family=\"Helvetica,sans-Serif\" font-size=\"14.00\">value = [111, 0]</text>\n",
       "<text text-anchor=\"start\" x=\"527.5\" y=\"-85.2\" font-family=\"Helvetica,sans-Serif\" font-size=\"14.00\">class = 0</text>\n",
       "</g>\n",
       "<!-- 4&#45;&gt;198 -->\n",
       "<g id=\"edge8\" class=\"edge\">\n",
       "<title>4&#45;&gt;198</title>\n",
       "<path fill=\"none\" stroke=\"black\" d=\"M477.77,-190.58C489.11,-179.34 501.41,-167.14 512.77,-155.87\"/>\n",
       "<polygon fill=\"black\" stroke=\"black\" points=\"515.14,-158.45 519.78,-148.93 510.21,-153.48 515.14,-158.45\"/>\n",
       "</g>\n",
       "<!-- 6 -->\n",
       "<g id=\"node7\" class=\"node\">\n",
       "<title>6</title>\n",
       "<path fill=\"#c0c0c0\" stroke=\"black\" d=\"M296.5,-36C296.5,-36 266.5,-36 266.5,-36 260.5,-36 254.5,-30 254.5,-24 254.5,-24 254.5,-12 254.5,-12 254.5,-6 260.5,0 266.5,0 266.5,0 296.5,0 296.5,0 302.5,0 308.5,-6 308.5,-12 308.5,-12 308.5,-24 308.5,-24 308.5,-30 302.5,-36 296.5,-36\"/>\n",
       "<text text-anchor=\"middle\" x=\"281.5\" y=\"-12.2\" font-family=\"Helvetica,sans-Serif\" font-size=\"14.00\">(...)</text>\n",
       "</g>\n",
       "<!-- 5&#45;&gt;6 -->\n",
       "<g id=\"edge6\" class=\"edge\">\n",
       "<title>5&#45;&gt;6</title>\n",
       "<path fill=\"none\" stroke=\"black\" d=\"M301.81,-71.76C298.61,-63.43 295.3,-54.84 292.31,-47.07\"/>\n",
       "<polygon fill=\"black\" stroke=\"black\" points=\"295.6,-45.89 288.75,-37.82 289.07,-48.41 295.6,-45.89\"/>\n",
       "</g>\n",
       "<!-- 153 -->\n",
       "<g id=\"node8\" class=\"node\">\n",
       "<title>153</title>\n",
       "<path fill=\"#c0c0c0\" stroke=\"black\" d=\"M368.5,-36C368.5,-36 338.5,-36 338.5,-36 332.5,-36 326.5,-30 326.5,-24 326.5,-24 326.5,-12 326.5,-12 326.5,-6 332.5,0 338.5,0 338.5,0 368.5,0 368.5,0 374.5,0 380.5,-6 380.5,-12 380.5,-12 380.5,-24 380.5,-24 380.5,-30 374.5,-36 368.5,-36\"/>\n",
       "<text text-anchor=\"middle\" x=\"353.5\" y=\"-12.2\" font-family=\"Helvetica,sans-Serif\" font-size=\"14.00\">(...)</text>\n",
       "</g>\n",
       "<!-- 5&#45;&gt;153 -->\n",
       "<g id=\"edge7\" class=\"edge\">\n",
       "<title>5&#45;&gt;153</title>\n",
       "<path fill=\"none\" stroke=\"black\" d=\"M333.19,-71.76C336.39,-63.43 339.7,-54.84 342.69,-47.07\"/>\n",
       "<polygon fill=\"black\" stroke=\"black\" points=\"345.93,-48.41 346.25,-37.82 339.4,-45.89 345.93,-48.41\"/>\n",
       "</g>\n",
       "</g>\n",
       "</svg>\n"
      ],
      "text/plain": [
       "<graphviz.sources.Source at 0x144a2c090>"
      ]
     },
     "execution_count": 5,
     "metadata": {},
     "output_type": "execute_result"
    }
   ],
   "source": [
    "from sklearn.tree import export_graphviz\n",
    "import graphviz\n",
    "\n",
    "# 从pipeline中提取随机森林分类器\n",
    "rf_classifier = pipeline.named_steps['classifier']\n",
    "\n",
    "# 提取第一棵树\n",
    "estimator = rf_classifier.estimators_[0]\n",
    "\n",
    "# 获取特征名称\n",
    "feature_names = (\n",
    "    # 获取分类特征的名称\n",
    "    pipeline.named_steps['preprocessor']\n",
    "    .named_transformers_['cat']\n",
    "    .get_feature_names_out([\n",
    "        'person_gender', 'person_education', 'person_home_ownership',\n",
    "        'loan_intent'\n",
    "    ]).tolist() +\n",
    "    # 获取数值特征的名称\n",
    "    [\n",
    "        'person_age', 'person_income', 'person_emp_exp',\n",
    "        'loan_amnt', 'loan_int_rate', 'loan_percent_income',\n",
    "        'cb_person_cred_hist_length', 'credit_score'\n",
    "    ]\n",
    ")\n",
    "\n",
    "# 获取多项式特征的名称\n",
    "poly_feature_names = pipeline.named_steps['poly_features'].get_feature_names_out(feature_names)\n",
    "\n",
    "# 导出树的结构为DOT格式\n",
    "dot_data = export_graphviz(estimator,\n",
    "                           out_file=None,\n",
    "                           feature_names=poly_feature_names,\n",
    "                           class_names=rf_classifier.classes_.astype(str),\n",
    "                           filled=True,\n",
    "                           rounded=True,\n",
    "                           special_characters=True,\n",
    "                           max_depth=3)  # 为了简化，可限制深度\n",
    "\n",
    "# 使用graphviz渲染\n",
    "graph = graphviz.Source(dot_data)\n",
    "graph.render(\"decision_tree\")\n",
    "\n",
    "# 显示图像（在Jupyter Notebook中）\n",
    "graph\n"
   ]
  },
  {
   "cell_type": "markdown",
   "metadata": {},
   "source": [
    "## 2.2 特征重要性\n",
    "使用Ensemble Model一个重要的好处是可以得到特征重要性。这使得特征工程可以更有针对性\n",
    "\n",
    "**NOTE** 特征重要性和特征可解释性不一样。ensemble模型告诉你特征很重要，但是并不告诉你这是个正向因素还是个负向因素"
   ]
  },
  {
   "cell_type": "markdown",
   "metadata": {},
   "source": [
    "## 2.3 Xgboost： Go-To Model Choice"
   ]
  },
  {
   "cell_type": "markdown",
   "metadata": {},
   "source": [
    "# 总结\n",
    "\n",
    "这节课我们学习了：\n",
    "- 如何使用pipeline来串联整个模型训练的routine\n",
    "- 什么是ensemble模型以及如何对ensemble模型进行调优\n",
    "\n",
    "**回家作业**： 利用xgboost完成rainfall的完整pipeline，并提交一次Kaggle\n"
   ]
  }
 ],
 "metadata": {
  "kernelspec": {
   "display_name": "genai2025-EbBYtNEX-py3.11",
   "language": "python",
   "name": "python3"
  },
  "language_info": {
   "codemirror_mode": {
    "name": "ipython",
    "version": 3
   },
   "file_extension": ".py",
   "mimetype": "text/x-python",
   "name": "python",
   "nbconvert_exporter": "python",
   "pygments_lexer": "ipython3",
   "version": "3.11.2"
  }
 },
 "nbformat": 4,
 "nbformat_minor": 2
}
