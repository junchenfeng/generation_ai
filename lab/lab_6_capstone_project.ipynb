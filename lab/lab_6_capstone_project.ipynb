{
 "cells": [
  {
   "cell_type": "markdown",
   "metadata": {},
   "source": [
    "# 课程回顾\n",
    "\n",
    "## 机器学习的基本概念和流程\n",
    "\n",
    "- 学习 & 泛化\n",
    "    + Train & Holdout/Test\n",
    "    + 过拟合\n",
    "- 特征工程\n",
    "    + scaler\n",
    "    + one-hot encoding\n",
    "    + 交互特征\n",
    "    + Pipeline\n",
    "- 模型选择和优化\n",
    "    + Cross Validation\n",
    "    + Grid Search\n",
    "    + 评估指标: Accuracy, [AUC, F1, MSE, MAE]\n",
    "\n",
    "## 常见的机器学习模型\n",
    "- Logistic\n",
    "- SVM\n",
    "- Ensemble：Random Forest, [GBDT, XGBoost]\n",
    "- Neural Network： CNN，[RNN, Transformer]\n",
    "\n",
    "\n",
    "\n"
   ]
  },
  {
   "cell_type": "markdown",
   "metadata": {},
   "source": [
    "# Capstone Project\n",
    "\n",
    "## 业务背景\n",
    "\n",
    "下图是火花课堂的屏幕截图。在上课过程中，如果老师发现学生卡住了（或者学生告诉老师自己不能看到老师或无法操作课件），就会向技术支持提交一个**网络状况**工单。\n",
    "\n",
    "![Alt text](../data/screen_shot.png)\n",
    "\n",
    "\n",
    "技术支持在看到这个工单后，会通过监课界面以学生视角观看课堂；如果技术支持认为*当时*学生课堂正常，就会关闭工单，并将关闭原因标注为“轻微抖动不影响上课”；否则，技术支持就会打电话给家长协助解决网络问题，并将关闭原因标注为“网络卡顿”。\n",
    "\n",
    "前端开发告诉你，除了网络状况外，设备型号和性能也会导致操作卡顿；例如早期iPad或者低端Android运行火花课堂时也会卡顿。同时，他们也告诉你技术支持的关闭原因填写有噪音：用户当时是否卡，完全取决于技术支持监课的时机。\n",
    "\n",
    "现在产研试图降低网络工单率。产品经理提出的一个建议是，**如果在工单提交时可以预测网络工单的关闭原因**，那么就可以在老师提交工单时在后台直接关闭预测为“轻微抖动不影响上课”的工单，而仅放行“网络卡顿”的工单。\n",
    "\n",
    "你的同事也为你提取了一些正常课堂的数据，用作训练使用。\n",
    "\n",
    "\n",
    "## 数据字典\n",
    "\n",
    "type是你的Y数据：\n",
    "- 0表示正常课堂\n",
    "- 1表示产生网络工单且关闭原因为“轻微抖动不影响上课”\n",
    "- 2表示产生网路工单且关闭原因为“网络卡顿”\n",
    "\n",
    "\n",
    "火花课堂监控两张网络的状态。一张网络是声网，火花用它来传输音频和视频；另一张网络是game server，火花用它来传输师生间课件控制的数据。\n",
    "\n",
    "声网的监控数据包括\n",
    "\n",
    "- duration：通话时长，单位为秒，累计值；重置链接后清零。\n",
    "- txAudioKBitrate:音频发送码率 (Kbps)，瞬时值\n",
    "- rxAudioKBitrate:音频接收码率 (Kbps)，瞬时值\n",
    "- txVideoKBitrate:音频发送码率 (Kbps)，瞬时值\n",
    "- rxVideoKBitrate:音频接收码率 (Kbps)，瞬时值\n",
    "- cpuTotalUsage:当前系统的 CPU 使用率 (%)\n",
    "- cpuAppUsage:当前 App 的 CPU 使用率 (%)\n",
    "- userCount: 当前频道内的用户人数\n",
    "- sentFrameRate: 不重要\n",
    "- sentBitrate: 不重要\n",
    "\n",
    "客户端的game server的监控数据包括\n",
    "\n",
    "- cpu: 上报数列的最高值\n",
    "- lag: 客户端与game server的ping值\n",
    "- fps: 客户端的针率\n",
    "- memory_free：客户端未使用\n",
    "- memory_app_used\n",
    "- memory_inactive:\n",
    "\n",
    "你的同事已经帮你把工单提交前40次监控和工单提交后40次监控的数据整理好了。X_lead_Y表示性能变量X在工单提交前Y次监控的数据；X_lag_Y表示性能变量X在工单提交后Y次监控的数据。X_lead_1和X_lag_1是最接近工单提交的数据。\n",
    "\n",
    "此外，当性能数据在日志服务器上缺失时，统一填入-999"
   ]
  },
  {
   "cell_type": "markdown",
   "metadata": {},
   "source": [
    "# 项目要求\n",
    "\n",
    "结合上述业务场景和产品需求，利用data.csv的数据，构建一个预测工单关闭原因的模型，请使用AUC作为模型评估指标。\n",
    "\n",
    "向产品经理提交一个数据报告来解释你的工作，她没有统计学和ML的背景。你要想办法说服她你的模型是有用的且“合理”的。让大模型扮演这个产品经理来proof reading和挑战你的报告。\n"
   ]
  },
  {
   "cell_type": "code",
   "execution_count": null,
   "metadata": {},
   "outputs": [],
   "source": [
    "import pandas as pd\n",
    "\n",
    "df = pd.read_csv('../data/data.csv') # 需要先unzip capstone_project.zip\n"
   ]
  }
 ],
 "metadata": {
  "kernelspec": {
   "display_name": "Python 3",
   "language": "python",
   "name": "python3"
  },
  "language_info": {
   "codemirror_mode": {
    "name": "ipython",
    "version": 3
   },
   "file_extension": ".py",
   "mimetype": "text/x-python",
   "name": "python",
   "nbconvert_exporter": "python",
   "pygments_lexer": "ipython3",
   "version": "3.11.2"
  }
 },
 "nbformat": 4,
 "nbformat_minor": 2
}
