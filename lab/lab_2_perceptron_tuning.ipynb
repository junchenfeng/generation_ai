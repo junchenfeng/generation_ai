{
 "cells": [
  {
   "cell_type": "markdown",
   "metadata": {},
   "source": [
    "# Lab 2: Tuning a Perceptron Classifier using Cross-Validation and Grid Search\n",
    "\n",
    "## Introduction\n",
    "\n",
    "在本课程中,我们将学习如何使用 scikit-learn 的工具来训练Perceptron。我们将重点关注:\n",
    "\n",
    "1. **了解如何拆分训练集和留出样本(holdout set)，来估计训练误差和泛化误差**\n",
    "2. **了解ML的参数包括正则化参数和模型超参数**\n",
    "2. **理解scikit-learn中Pipeline的概念，并学会使用Pipeline来自动化流程**\n",
    "1. **使用交叉验证(cross-validation)来优化参数**\n",
    "\n",
    "完成本课程后,你应该能够:\n",
    "\n",
    "- 在大模型的帮助下完成Pipeline的设定\n",
    "- 利用交叉验证来优化给定模型的表现\n",
    "\n",
    "让我们开始吧！"
   ]
  },
  {
   "cell_type": "markdown",
   "metadata": {},
   "source": [
    "# 理论\n",
    "\n",
    "## 背景设定\n",
    "\n",
    "你准备考TOFEL，下面是你可以选择的一些备考方案（Policy）\n",
    "- 1. 去庙里求个签\n",
    "- 2. 买本书回家自己刷\n",
    "- 3. 报个新东方培训班\n",
    "- 4. 请个私教\n",
    "\n",
    "### 问题\n",
    "\n",
    "1. 在这个背景里，你的优化目标是什么？\n",
    "2. 你的训练损失是什么？你的泛化损失是什么？\n",
    "3. 在这个背景下，你的feature set是什么？\n",
    "4. 你通过背答案，在模拟考上得了很高分，但是在真实考试中却一塌胡涂。这种现象在机器学习里叫什么？\n",
    "5. 为什么有人会花钱去韩国考机考？而不是在国内做笔试？\n",
    "6. 【挑战题】什么是VC维？(VC维刻画的是什么？)。为什么从1到4的VC维不断升高？\n"
   ]
  },
  {
   "cell_type": "markdown",
   "metadata": {},
   "source": []
  },
  {
   "cell_type": "markdown",
   "metadata": {},
   "source": [
    "## 1. 加载和探索数据"
   ]
  },
  {
   "cell_type": "code",
   "execution_count": 1,
   "metadata": {},
   "outputs": [],
   "source": [
    "import pandas as pd\n",
    "import numpy as np\n",
    "\n",
    "# 加载数据\n",
    "data = pd.read_csv('../data/loan_data.csv')"
   ]
  },
  {
   "cell_type": "markdown",
   "metadata": {},
   "source": [
    "## 2. 数据预处理\n",
    "\n",
    "在训练模型之前,我们需要预处理数据:\n",
    "\n",
    "- 编码分类变量\n",
    "- 标准化数值特征\n",
    "\n",
    "*JC：如果你看不懂下面的代码无需担心，我们会在lab3中详细讲解*"
   ]
  },
  {
   "cell_type": "code",
   "execution_count": 6,
   "metadata": {},
   "outputs": [],
   "source": [
    "from sklearn.compose import ColumnTransformer\n",
    "from sklearn.preprocessing import OneHotEncoder, StandardScaler\n",
    "\n",
    "# 数值和分类特征列表\n",
    "numerical_features = [\n",
    "    'person_age', 'person_income', 'person_emp_exp', 'loan_amnt',\n",
    "    'loan_int_rate', 'loan_percent_income', 'cb_person_cred_hist_length',\n",
    "    'credit_score'\n",
    "]\n",
    "categorical_features = [\n",
    "    'person_gender', 'person_education', 'person_home_ownership',\n",
    "    'loan_intent', 'previous_loan_defaults_on_file'\n",
    "]\n",
    "\n",
    "# 定义预处理步骤\n",
    "preprocessor = ColumnTransformer(\n",
    "    transformers=[\n",
    "        ('num', StandardScaler(), numerical_features),\n",
    "        ('cat', OneHotEncoder(drop='first'), categorical_features)\n",
    "    ])\n",
    "\n",
    "# 分离特征和目标变量\n",
    "X = data.drop('loan_status', axis=1)\n",
    "y = data['loan_status']"
   ]
  },
  {
   "cell_type": "markdown",
   "metadata": {},
   "source": [
    "**说明:**\n",
    "\n",
    "- **数值特征**: 使用 `StandardScaler` 进行标准化,使其均值为0,方差为1\n",
    "- **分类特征**: 使用 `OneHotEncoder` 将类别转换为二进制变量"
   ]
  },
  {
   "cell_type": "markdown",
   "metadata": {},
   "source": [
    "## 3. 将数据分割为训练集和留出集\n",
    "\n",
    "我们将数据分为训练集和留出(测试)集。留出集将在最后用于评估模型的泛化性能。\n",
    "\n",
    "*HW：Q1 问大模型为什么要设置random state*"
   ]
  },
  {
   "cell_type": "code",
   "execution_count": 7,
   "metadata": {},
   "outputs": [],
   "source": [
    "from sklearn.model_selection import train_test_split\n",
    "\n",
    "# 分割数据\n",
    "X_train_val, X_holdout, y_train_val, y_holdout = train_test_split(X, y, test_size=0.2, random_state=42, stratify=y)"
   ]
  },
  {
   "cell_type": "markdown",
   "metadata": {},
   "source": [
    "## 4. 使用交叉验证选择参数\n",
    "\n",
    "### a. 创建管道\n",
    "\n",
    "*HW：Q2 问大模型使用Pipeline的好处*"
   ]
  },
  {
   "cell_type": "code",
   "execution_count": 8,
   "metadata": {},
   "outputs": [],
   "source": [
    "from sklearn.pipeline import Pipeline\n",
    "from sklearn.linear_model import Perceptron\n",
    "\n",
    "# 定义管道\n",
    "pipeline = Pipeline(steps=[\n",
    "    ('preprocessor', preprocessor),\n",
    "    ('classifier', Perceptron(random_state=42))\n",
    "])"
   ]
  },
  {
   "cell_type": "markdown",
   "metadata": {},
   "source": [
    "### b. 定义参数\n",
    "*TODO：问大模型为什么什么叫L1损失，什么情况下应该使用L1损失*"
   ]
  },
  {
   "cell_type": "code",
   "execution_count": 9,
   "metadata": {},
   "outputs": [],
   "source": [
    "penalty_method = ['l2', 'l1', 'elasticnet']"
   ]
  },
  {
   "cell_type": "markdown",
   "metadata": {},
   "source": [
    "### c. 执行交叉验证\n",
    "\n",
    "*TODO：问大模型cv这个参数什么意思，cv参数变大或者变小的影响是什么？*\n",
    "\n",
    "*HW Q3：如何让你的可视化更加直观？*\n"
   ]
  },
  {
   "cell_type": "code",
   "execution_count": null,
   "metadata": {},
   "outputs": [],
   "source": [
    "import matplotlib.pyplot as plt\n",
    "from sklearn.model_selection import cross_val_score\n",
    "\n",
    "# 定义正则化参数(alpha)的取值范围\n",
    "\n",
    "mean_scores = []\n",
    "\n",
    "for penalty in penalty_method:\n",
    "    pipeline.set_params(classifier__penalty=penalty)  # pipeline defines the automation process\n",
    "    scores = cross_val_score(\n",
    "        pipeline, X_train_val, y_train_val, cv=5, scoring='accuracy')\n",
    "    mean_scores.append(scores.mean())\n",
    "\n",
    "# 绘制结果\n",
    "plt.figure(figsize=(8, 6))\n",
    "plt.bar(penalty_method, mean_scores)\n",
    "plt.xlabel('Penalty Method')\n",
    "plt.ylabel('Cross-validation accuracy')\n",
    "plt.title('Selecting Penalty Method with cross-validation')\n",
    "plt.show()"
   ]
  },
  {
   "cell_type": "code",
   "execution_count": null,
   "metadata": {},
   "outputs": [],
   "source": [
    "# 找到具有最高平均分数的alpha\n",
    "best_penalty = penalty_method[np.argmax(mean_scores)]\n",
    "print(f'最佳 参数: {best_penalty}, 最佳准确率是{mean_scores[np.argmax(mean_scores)]}')"
   ]
  },
  {
   "cell_type": "markdown",
   "metadata": {},
   "source": [
    "## 5. 使用网格搜索进行多个超参数选择\n",
    "\n",
    "### a. 定义参数网格\n",
    "*TODO：Alpha是什么意思？在这里起了什么作用*\n",
    "\n",
    "*HW Q4：问大模型eta0是什么意思？*\n",
    "*HW Challenge1: 不拟合常数项的实际含义是什么？【提示，过哪个定点】*"
   ]
  },
  {
   "cell_type": "code",
   "execution_count": 12,
   "metadata": {},
   "outputs": [],
   "source": [
    "from sklearn.model_selection import GridSearchCV\n",
    "\n",
    "# 定义参数网格\n",
    "param_grid = {\n",
    "    'classifier__penalty': ['l2', 'l1', 'elasticnet'],\n",
    "    'classifier__alpha': np.logspace(-5, 1, 7),\n",
    "    'classifier__eta0': [1.0, 0.1, 0.01],\n",
    "    'classifier__fit_intercept': [True, False]\n",
    "}"
   ]
  },
  {
   "cell_type": "code",
   "execution_count": null,
   "metadata": {},
   "outputs": [],
   "source": [
    "grid_search = GridSearchCV(\n",
    "    pipeline, param_grid, cv=5, scoring='accuracy', n_jobs=3)\n",
    "\n",
    "grid_search.fit(X_train_val, y_train_val)\n",
    "\n",
    "print(f'最佳参数: {grid_search.best_params_}')\n",
    "print(f'最佳交叉验证分数: {grid_search.best_score_:.4f}')"
   ]
  },
  {
   "cell_type": "markdown",
   "metadata": {},
   "source": [
    "## 7. 评估模型\n",
    "*ToDo：你发现holdout set的accuracy变差了，这说明什么？首先尝试自己解释，然后让大模型点评你的解释*\n",
    "\n",
    "*ToDo：反思，alpha的值设定合理么？怎么优化*"
   ]
  },
  {
   "cell_type": "code",
   "execution_count": null,
   "metadata": {},
   "outputs": [],
   "source": [
    "from sklearn.metrics import accuracy_score, classification_report\n",
    "\n",
    "# 获取最佳模型\n",
    "best_model = grid_search.best_estimator_\n",
    "\n",
    "# 在留出集上进行预测\n",
    "y_pred = best_model.predict(X_holdout)\n",
    "\n",
    "# 评估模型\n",
    "accuracy = accuracy_score(y_holdout, y_pred)\n",
    "print(f'留出集上的准确率: {accuracy:.4f}')\n",
    "\n",
    "print('分类报告:')\n",
    "print(classification_report(y_holdout, y_pred))"
   ]
  },
  {
   "cell_type": "markdown",
   "metadata": {},
   "source": [
    "## Now You Do!\n",
    "**Excercise**\n",
    "\n",
    "调整alpha来平衡训练误差和泛化误差\n",
    "\n",
    "**Mini Kaggle**\n",
    "\n",
    "在random state=42，holdout 比例20%的前提下；综合你在这个lab中学到的技巧，比一比谁的模型能在holdout set中得到表现最好"
   ]
  }
 ],
 "metadata": {
  "kernelspec": {
   "display_name": "generation-ai-pKB8m0do-py3.11",
   "language": "python",
   "name": "python3"
  },
  "language_info": {
   "codemirror_mode": {
    "name": "ipython",
    "version": 3
   },
   "file_extension": ".py",
   "mimetype": "text/x-python",
   "name": "python",
   "nbconvert_exporter": "python",
   "pygments_lexer": "ipython3",
   "version": "3.11.2"
  }
 },
 "nbformat": 4,
 "nbformat_minor": 2
}
