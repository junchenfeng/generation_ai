{
 "cells": [
  {
   "cell_type": "markdown",
   "metadata": {},
   "source": [
    "# 机器学习入门：贷款申请预测\n",
    "\n",
    "在这个项目中，我们将学习如何使用机器学习来预测银行是否会批准贷款申请。\n",
    "\n",
    "我们将学习以下内容：\n",
    "1. 数据探索和可视化（EDA）\n",
    "2. 数据预处理\n",
    "3. 训练机器学习模型\n",
    "4. 评估模型性能"
   ]
  },
  {
   "cell_type": "markdown",
   "metadata": {},
   "source": [
    "# 元数据\n",
    "| Column | Description | Type |\n",
    "|--------|-------------|------|\n",
    "| person_age | Age of the person | Float |\n",
    "| person_gender | Gender of the person | Categorical |\n",
    "| person_education | Highest education level | Categorical |\n",
    "| person_income | Annual income | Float |\n",
    "| person_emp_exp | Years of employment experience | Integer |\n",
    "| person_home_ownership | Home ownership status (e.g., rent, own, mortgage) | Categorical |\n",
    "| loan_amnt | Loan amount requested | Float |\n",
    "| loan_intent | Purpose of the loan | Categorical |\n",
    "| loan_int_rate | Loan interest rate | Float |\n",
    "| loan_percent_income | Loan amount as a percentage of annual income | Float |\n",
    "| cb_person_cred_hist_length | Length of credit history in years | Float |\n",
    "| credit_score | Credit score of the person | Integer |\n",
    "| previous_loan_defaults_on_file | Indicator of previous loan defaults | Categorical |\n",
    "| loan_status (target variable) | Loan approval status: 1 = approved; 0 = rejected | Integer |"
   ]
  },
  {
   "cell_type": "markdown",
   "metadata": {},
   "source": [
    "# 预加载环境"
   ]
  },
  {
   "cell_type": "code",
   "execution_count": 11,
   "metadata": {},
   "outputs": [],
   "source": [
    "# 导入需要的库\n",
    "import pandas as pd\n",
    "import numpy as np\n",
    "import matplotlib.pyplot as plt\n",
    "import seaborn as sns\n",
    "from sklearn.model_selection import train_test_split\n",
    "from sklearn.tree import DecisionTreeClassifier\n",
    "from sklearn.metrics import classification_report, roc_curve, auc\n",
    "\n"
   ]
  },
  {
   "cell_type": "markdown",
   "metadata": {},
   "source": [
    "## 1. 加载和查看数据"
   ]
  },
  {
   "cell_type": "markdown",
   "metadata": {},
   "source": [
    "任务：\n",
    "1. 查看数据的前几行\n",
    "2. 查看数据的基本信息\n"
   ]
  },
  {
   "cell_type": "code",
   "execution_count": null,
   "metadata": {},
   "outputs": [],
   "source": [
    "# 读取数据\n",
    "df = pd.read_csv('../../data/loan_data.csv')"
   ]
  },
  {
   "cell_type": "markdown",
   "metadata": {},
   "source": [
    "## 2. 数据探索分析（EDA）"
   ]
  },
  {
   "cell_type": "markdown",
   "metadata": {},
   "source": [
    "任务：\n",
    "1. 查看年龄变量的分布，利用describe函数查看其统计信息\n",
    "2. 用直方图查看年龄变量的分布\n",
    "3. 用散点图查看收入与贷款金额的关系，并根据approval status标记为不同颜色\n",
    "\n",
    "**所有plot的文字都使用英文**"
   ]
  },
  {
   "cell_type": "code",
   "execution_count": null,
   "metadata": {},
   "outputs": [],
   "source": []
  },
  {
   "cell_type": "markdown",
   "metadata": {},
   "source": [
    "## 3. 数据预处理\n",
    "\n",
    "任务1: 将分类变量进行One-Hot编码，分类变量包括性别, 教育水平, 购房情况, 贷款意图, 是否曾经违约\n",
    "\n",
    "任务2: 按照7:3分离训练集和测试机"
   ]
  },
  {
   "cell_type": "code",
   "execution_count": null,
   "metadata": {},
   "outputs": [],
   "source": []
  },
  {
   "cell_type": "markdown",
   "metadata": {},
   "source": [
    "## 4. 训练决策树模型"
   ]
  },
  {
   "cell_type": "code",
   "execution_count": 7,
   "metadata": {},
   "outputs": [],
   "source": []
  },
  {
   "cell_type": "markdown",
   "metadata": {},
   "source": [
    "## 5. 评估模型性能\n",
    "任务1: 在训练集上汇报分类结果报告\n",
    "任务2: 在测试集上绘制ROC曲线"
   ]
  },
  {
   "cell_type": "code",
   "execution_count": null,
   "metadata": {},
   "outputs": [],
   "source": []
  },
  {
   "cell_type": "markdown",
   "metadata": {},
   "source": [
    "## 6. 总结\n",
    "\n",
    "在这个项目中，我们：\n",
    "1. 学习了如何加载和探索数据\n",
    "2. 对数据进行了可视化分析\n",
    "3. 处理了分类变量\n",
    "4. 训练了一个决策树模型\n",
    "5. 使用混淆矩阵和ROC曲线评估了模型性能\n",
    "\n",
    "这些都是机器学习中的基本概念和技能！"
   ]
  }
 ],
 "metadata": {
  "kernelspec": {
   "display_name": "Python 3",
   "language": "python",
   "name": "python3"
  },
  "language_info": {
   "codemirror_mode": {
    "name": "ipython",
    "version": 3
   },
   "file_extension": ".py",
   "mimetype": "text/x-python",
   "name": "python",
   "nbconvert_exporter": "python",
   "pygments_lexer": "ipython3",
   "version": "3.11.2"
  }
 },
 "nbformat": 4,
 "nbformat_minor": 2
}
