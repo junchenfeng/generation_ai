{
 "cells": [
  {
   "cell_type": "markdown",
   "metadata": {},
   "source": [
    "# Lab 4:An Introduction of Deep Learning\n",
    "\n",
    "这个Lab利用MNIST数据集来给大家展示卷积神经网络（CNN）的训练过程，以及如何对于CNN模型进行调优。\n",
    "同时，通过比较CPU和GPU的训练时间，让大家体会算力在Deep Learning中的作用\n"
   ]
  },
  {
   "cell_type": "code",
   "execution_count": 2,
   "metadata": {},
   "outputs": [],
   "source": [
    "import numpy as np\n",
    "import matplotlib.pyplot as plt\n",
    "from tensorflow.keras.datasets import mnist\n",
    "from tensorflow.keras.utils import to_categorical\n",
    "from tensorflow.keras.models import Sequential\n",
    "from tensorflow.keras.layers import Conv2D, MaxPooling2D, Flatten, Dense\n",
    "from tensorflow.keras.optimizers import SGD"
   ]
  },
  {
   "cell_type": "markdown",
   "metadata": {},
   "source": [
    "下面这个脚本告诉你，你是否可以使用GPU进行训练"
   ]
  },
  {
   "cell_type": "code",
   "execution_count": 3,
   "metadata": {},
   "outputs": [
    {
     "name": "stdout",
     "output_type": "stream",
     "text": [
      "\n",
      "Devices:  [PhysicalDevice(name='/physical_device:CPU:0', device_type='CPU')]\n"
     ]
    }
   ],
   "source": [
    "import tensorflow as tf\n",
    "devices = tf.config.list_physical_devices()\n",
    "print(\"\\nDevices: \", devices)\n",
    "\n",
    "gpus = tf.config.list_physical_devices('GPU')\n",
    "if gpus:\n",
    "  details = tf.config.experimental.get_device_details(gpus[0])\n",
    "  print(\"GPU details: \", details)"
   ]
  },
  {
   "cell_type": "markdown",
   "metadata": {},
   "source": [
    "# 1. 图像模型 & LeNet-5\n",
    "\n",
    "## 1.1 理解tensor的数据类型\n",
    "\n",
    "Tensor通用shape是(N, H, W, C)，其中N是样本数量，H是高度，W是宽度，C是通道数。\n",
    "在MNIST数据集中，每个图像是28x28的灰度图，所以通道数C=1。\n",
    "\n",
    "经验来看，图像数据通常将数据归一化到0-1之间，这样有利于模型的训练。\n",
    "\n",
    "在Keras中，标签通常使用One-Hot编码，这样有利于计算分类的准确率。"
   ]
  },
  {
   "cell_type": "code",
   "execution_count": 4,
   "metadata": {},
   "outputs": [],
   "source": [
    "(X_train, y_train), (X_test, y_test) = mnist.load_data()"
   ]
  },
  {
   "cell_type": "code",
   "execution_count": 5,
   "metadata": {},
   "outputs": [
    {
     "data": {
      "image/png": "[encoded data removed]",
      "text/plain": [
       "<Figure size 500x500 with 9 Axes>"
      ]
     },
     "metadata": {},
     "output_type": "display_data"
    }
   ],
   "source": [
    "# 原始数据集的图像\n",
    "\n",
    "plt.figure(figsize=(5,5))\n",
    "for i in range(9):\n",
    "    plt.subplot(3,3,i+1)\n",
    "    plt.imshow(X_train[i].reshape(28,28), cmap='gray')\n",
    "    plt.title(np.argmax(y_train[i]))\n",
    "    plt.axis('off')\n",
    "plt.show()"
   ]
  },
  {
   "cell_type": "code",
   "execution_count": 6,
   "metadata": {},
   "outputs": [],
   "source": [
    "# 数据归一化\n",
    "X_train = X_train.reshape(-1, 28, 28, 1).astype('float32') / 255.0\n",
    "X_test = X_test.reshape(-1, 28, 28, 1).astype('float32') / 255.0\n",
    "\n",
    "# 标签One-Hot编码\n",
    "y_train = to_categorical(y_train)\n",
    "y_test = to_categorical(y_test)"
   ]
  },
  {
   "cell_type": "markdown",
   "metadata": {},
   "source": [
    "**思考**：为什么要除255来归一化？\n"
   ]
  },
  {
   "cell_type": "markdown",
   "metadata": {},
   "source": [
    "## 1.2. 一个最简单的CNN\n",
    "\n",
    "下面这个模型是一个最简单的CNN模型\n",
    "\n",
    "    - “特征工程”：卷积层 + 池化层 + 展平层\n",
    "    - “分类器”：全连接层"
   ]
  },
  {
   "cell_type": "code",
   "execution_count": 9,
   "metadata": {},
   "outputs": [],
   "source": [
    "# 初始化模型\n",
    "model = Sequential()\n",
    "\n",
    "# 添加卷积层\n",
    "model.add(Conv2D(32, kernel_size=(3, 3), activation='relu', input_shape=(28,28,1)))\n",
    "\n",
    "# 添加池化层\n",
    "model.add(MaxPooling2D(pool_size=(2, 2)))\n",
    "\n",
    "# 展平层\n",
    "model.add(Flatten())\n",
    "\n",
    "# 全连接层\n",
    "model.add(Dense(128, activation='relu'))\n",
    "\n",
    "# 输出层， 10 对应10个类别\n",
    "model.add(Dense(10, activation='softmax'))"
   ]
  },
  {
   "cell_type": "markdown",
   "metadata": {},
   "source": [
    "*Ask LLM*：\n",
    "\n",
    "- 卷积层和池化层的作用是什么？\n",
    "- 卷积层的kernel_size是什么意思？\n",
    "- 池化层的pool_size是什么意思？\n",
    "- 卷积层的activation是什么？\n",
    "\n"
   ]
  },
  {
   "cell_type": "markdown",
   "metadata": {},
   "source": [
    "设置训练参数，可以类比ML中的模型参数\n",
    "- optimizer：常见的有SGD和Adam\n",
    "- loss：常见的有categorical_crossentropy和MSE\n",
    "- metrics：常见的有accuracy和f1-score"
   ]
  },
  {
   "cell_type": "code",
   "execution_count": 10,
   "metadata": {},
   "outputs": [],
   "source": [
    "model.compile(optimizer='adam', loss='categorical_crossentropy', metrics=['accuracy'])\n"
   ]
  },
  {
   "cell_type": "markdown",
   "metadata": {},
   "source": [
    "默认使用CPU进行训练"
   ]
  },
  {
   "cell_type": "code",
   "execution_count": 11,
   "metadata": {},
   "outputs": [
    {
     "name": "stdout",
     "output_type": "stream",
     "text": [
      "Epoch 1/5\n",
      "\u001b[1m469/469\u001b[0m \u001b[32m━━━━━━━━━━━━━━━━━━━━\u001b[0m\u001b[37m\u001b[0m \u001b[1m7s\u001b[0m 15ms/step - accuracy: 0.8893 - loss: 0.4178 - val_accuracy: 0.9775 - val_loss: 0.0736\n",
      "Epoch 2/5\n",
      "\u001b[1m469/469\u001b[0m \u001b[32m━━━━━━━━━━━━━━━━━━━━\u001b[0m\u001b[37m\u001b[0m \u001b[1m7s\u001b[0m 15ms/step - accuracy: 0.9805 - loss: 0.0663 - val_accuracy: 0.9812 - val_loss: 0.0536\n",
      "Epoch 3/5\n",
      "\u001b[1m469/469\u001b[0m \u001b[32m━━━━━━━━━━━━━━━━━━━━\u001b[0m\u001b[37m\u001b[0m \u001b[1m7s\u001b[0m 15ms/step - accuracy: 0.9873 - loss: 0.0432 - val_accuracy: 0.9824 - val_loss: 0.0522\n",
      "Epoch 4/5\n",
      "\u001b[1m469/469\u001b[0m \u001b[32m━━━━━━━━━━━━━━━━━━━━\u001b[0m\u001b[37m\u001b[0m \u001b[1m7s\u001b[0m 16ms/step - accuracy: 0.9900 - loss: 0.0337 - val_accuracy: 0.9850 - val_loss: 0.0425\n",
      "Epoch 5/5\n",
      "\u001b[1m469/469\u001b[0m \u001b[32m━━━━━━━━━━━━━━━━━━━━\u001b[0m\u001b[37m\u001b[0m \u001b[1m8s\u001b[0m 16ms/step - accuracy: 0.9933 - loss: 0.0232 - val_accuracy: 0.9863 - val_loss: 0.0435\n"
     ]
    }
   ],
   "source": [
    "history = model.fit(X_train, y_train, \n",
    "validation_data=(X_test, y_test), \n",
    "epochs=5, batch_size=128)\n"
   ]
  },
  {
   "cell_type": "code",
   "execution_count": null,
   "metadata": {},
   "outputs": [],
   "source": [
    "# 使用GPU训练的方法\n",
    "\n",
    "with tf.device('/GPU:0'):  \n",
    "    history = model.fit(X_train, y_train, validation_data=(X_test, y_test), epochs=5, batch_size=128)\n"
   ]
  },
  {
   "cell_type": "markdown",
   "metadata": {},
   "source": [
    "比较训练数据集和验证数据集的准确率，来观察是否需要调整epochs，是否有过拟合。"
   ]
  },
  {
   "cell_type": "code",
   "execution_count": 12,
   "metadata": {},
   "outputs": [
    {
     "data": {
      "image/png": "[encoded data removed]",
      "text/plain": [
       "<Figure size 640x480 with 1 Axes>"
      ]
     },
     "metadata": {},
     "output_type": "display_data"
    },
    {
     "data": {
      "image/png": "[encoded data removed]",
      "text/plain": [
       "<Figure size 640x480 with 1 Axes>"
      ]
     },
     "metadata": {},
     "output_type": "display_data"
    }
   ],
   "source": [
    "# 绘制准确率曲线\n",
    "plt.plot(history.history['accuracy'], label='train_accuracy')\n",
    "plt.plot(history.history['val_accuracy'], label='validation_accuracy')\n",
    "plt.legend()\n",
    "plt.show()\n",
    "\n",
    "# 绘制损失曲线\n",
    "plt.plot(history.history['loss'], label='train_loss')\n",
    "plt.plot(history.history['val_loss'], label='validation_loss')\n",
    "plt.legend()\n",
    "plt.show()"
   ]
  },
  {
   "cell_type": "markdown",
   "metadata": {},
   "source": [
    "**思考**：如果过拟合了，train loss/validation loss有会有什么模式"
   ]
  },
  {
   "cell_type": "code",
   "execution_count": 13,
   "metadata": {},
   "outputs": [
    {
     "name": "stdout",
     "output_type": "stream",
     "text": [
      "\u001b[1m313/313\u001b[0m \u001b[32m━━━━━━━━━━━━━━━━━━━━\u001b[0m\u001b[37m\u001b[0m \u001b[1m1s\u001b[0m 2ms/step - accuracy: 0.9844 - loss: 0.0537\n",
      "Test Loss: 0.04350952431559563\n",
      "Test Accuracy: 0.986299991607666\n"
     ]
    }
   ],
   "source": [
    "loss, accuracy = model.evaluate(X_test, y_test)\n",
    "print(f'Test Loss: {loss}')\n",
    "print(f'Test Accuracy: {accuracy}')"
   ]
  },
  {
   "cell_type": "markdown",
   "metadata": {},
   "source": [
    "## 1.3. 架构升级：LeNet-5\n",
    "\n",
    "LeNet-5是CNN的经典模型，在1998年由Yann LeCun提出，用于手写数字的识别。\n",
    "\n",
    "**TODO**：比较LeNet-5和上面的最简单的CNN模型，有哪些区别\n",
    "\n",
    "Deep Learning的模型构建就像搭乐高积木一样，通过不同的积木组合，来测试是否有更好的效果。\n",
    "\n",
    "除了上面的这三种积木，在序列模型中还有RNN，Transformer，LSTM，GRU等积木。有兴趣的同学可以找到相关的paper，用大模型辅助你去复现一下"
   ]
  },
  {
   "cell_type": "code",
   "execution_count": 14,
   "metadata": {},
   "outputs": [],
   "source": [
    "# 初始化模型\n",
    "lenet5 = Sequential()\n",
    "\n",
    "# 第一个卷积层和池化层\n",
    "lenet5.add(Conv2D(6, kernel_size=(5, 5), activation='tanh', input_shape=(28,28,1), padding='same'))\n",
    "lenet5.add(MaxPooling2D(pool_size=(2, 2)))\n",
    "\n",
    "# 第二个卷积层和池化层\n",
    "lenet5.add(Conv2D(16, kernel_size=(5, 5), activation='tanh'))\n",
    "lenet5.add(MaxPooling2D(pool_size=(2, 2)))\n",
    "\n",
    "# 展平层\n",
    "lenet5.add(Flatten())\n",
    "\n",
    "# 全连接层\n",
    "lenet5.add(Dense(120, activation='tanh'))\n",
    "lenet5.add(Dense(84, activation='tanh'))\n",
    "\n",
    "# 输出层\n",
    "lenet5.add(Dense(10, activation='softmax'))"
   ]
  },
  {
   "cell_type": "code",
   "execution_count": 15,
   "metadata": {},
   "outputs": [],
   "source": [
    "# 使用SGD优化器\n",
    "optimizer = SGD(learning_rate=0.01)\n",
    "lenet5.compile(optimizer=optimizer, loss='categorical_crossentropy', metrics=['accuracy'])\n"
   ]
  },
  {
   "cell_type": "code",
   "execution_count": 16,
   "metadata": {},
   "outputs": [
    {
     "name": "stdout",
     "output_type": "stream",
     "text": [
      "Epoch 1/10\n",
      "\u001b[1m469/469\u001b[0m \u001b[32m━━━━━━━━━━━━━━━━━━━━\u001b[0m\u001b[37m\u001b[0m \u001b[1m8s\u001b[0m 16ms/step - accuracy: 0.5517 - loss: 1.6205 - val_accuracy: 0.8916 - val_loss: 0.4747\n",
      "Epoch 2/10\n",
      "\u001b[1m469/469\u001b[0m \u001b[32m━━━━━━━━━━━━━━━━━━━━\u001b[0m\u001b[37m\u001b[0m \u001b[1m7s\u001b[0m 15ms/step - accuracy: 0.8932 - loss: 0.4363 - val_accuracy: 0.9218 - val_loss: 0.3023\n",
      "Epoch 3/10\n",
      "\u001b[1m469/469\u001b[0m \u001b[32m━━━━━━━━━━━━━━━━━━━━\u001b[0m\u001b[37m\u001b[0m \u001b[1m7s\u001b[0m 15ms/step - accuracy: 0.9206 - loss: 0.3008 - val_accuracy: 0.9360 - val_loss: 0.2352\n",
      "Epoch 4/10\n",
      "\u001b[1m469/469\u001b[0m \u001b[32m━━━━━━━━━━━━━━━━━━━━\u001b[0m\u001b[37m\u001b[0m \u001b[1m7s\u001b[0m 15ms/step - accuracy: 0.9345 - loss: 0.2421 - val_accuracy: 0.9464 - val_loss: 0.1946\n",
      "Epoch 5/10\n",
      "\u001b[1m469/469\u001b[0m \u001b[32m━━━━━━━━━━━━━━━━━━━━\u001b[0m\u001b[37m\u001b[0m \u001b[1m7s\u001b[0m 15ms/step - accuracy: 0.9451 - loss: 0.1987 - val_accuracy: 0.9524 - val_loss: 0.1680\n",
      "Epoch 6/10\n",
      "\u001b[1m469/469\u001b[0m \u001b[32m━━━━━━━━━━━━━━━━━━━━\u001b[0m\u001b[37m\u001b[0m \u001b[1m7s\u001b[0m 15ms/step - accuracy: 0.9507 - loss: 0.1761 - val_accuracy: 0.9591 - val_loss: 0.1471\n",
      "Epoch 7/10\n",
      "\u001b[1m469/469\u001b[0m \u001b[32m━━━━━━━━━━━━━━━━━━━━\u001b[0m\u001b[37m\u001b[0m \u001b[1m7s\u001b[0m 15ms/step - accuracy: 0.9550 - loss: 0.1571 - val_accuracy: 0.9631 - val_loss: 0.1313\n",
      "Epoch 8/10\n",
      "\u001b[1m469/469\u001b[0m \u001b[32m━━━━━━━━━━━━━━━━━━━━\u001b[0m\u001b[37m\u001b[0m \u001b[1m7s\u001b[0m 15ms/step - accuracy: 0.9604 - loss: 0.1394 - val_accuracy: 0.9674 - val_loss: 0.1195\n",
      "Epoch 9/10\n",
      "\u001b[1m469/469\u001b[0m \u001b[32m━━━━━━━━━━━━━━━━━━━━\u001b[0m\u001b[37m\u001b[0m \u001b[1m7s\u001b[0m 15ms/step - accuracy: 0.9646 - loss: 0.1249 - val_accuracy: 0.9688 - val_loss: 0.1101\n",
      "Epoch 10/10\n",
      "\u001b[1m469/469\u001b[0m \u001b[32m━━━━━━━━━━━━━━━━━━━━\u001b[0m\u001b[37m\u001b[0m \u001b[1m7s\u001b[0m 15ms/step - accuracy: 0.9653 - loss: 0.1202 - val_accuracy: 0.9708 - val_loss: 0.1021\n"
     ]
    }
   ],
   "source": [
    "history_lenet5 = lenet5.fit(X_train, y_train, validation_data=(X_test, y_test), epochs=10, batch_size=128)\n"
   ]
  },
  {
   "cell_type": "markdown",
   "metadata": {},
   "source": [
    "**思考**：读了这张图，你会如何决策下一步训练？"
   ]
  },
  {
   "cell_type": "code",
   "execution_count": 17,
   "metadata": {},
   "outputs": [
    {
     "data": {
      "image/png": "[encoded data removed]",
      "text/plain": [
       "<Figure size 640x480 with 1 Axes>"
      ]
     },
     "metadata": {},
     "output_type": "display_data"
    }
   ],
   "source": [
    "# 绘制准确率曲线\n",
    "plt.plot(history_lenet5.history['loss'], label='train_loss')\n",
    "plt.plot(history_lenet5.history['val_loss'], label='validation_loss')\n",
    "plt.legend()\n",
    "plt.show()\n"
   ]
  },
  {
   "cell_type": "code",
   "execution_count": null,
   "metadata": {},
   "outputs": [],
   "source": [
    "loss, accuracy = lenet5.evaluate(X_test, y_test)\n",
    "print(f'LeNet-5 Test Loss: {loss}')\n",
    "print(f'LeNet-5 Test Accuracy: {accuracy}')\n"
   ]
  },
  {
   "cell_type": "markdown",
   "metadata": {},
   "source": [
    "# 2. NLP & Transformer"
   ]
  },
  {
   "cell_type": "code",
   "execution_count": 18,
   "metadata": {},
   "outputs": [],
   "source": [
    "# 导入必要的库\n",
    "import numpy as np\n",
    "import matplotlib.pyplot as plt\n",
    "import seaborn as sns\n",
    "from tensorflow.keras.datasets import imdb\n",
    "from tensorflow.keras.preprocessing.sequence import pad_sequences\n",
    "from tensorflow.keras.utils import to_categorical\n",
    "import tensorflow as tf\n",
    "from tensorflow.keras import layers, Model\n",
    "from tensorflow.keras.optimizers import Adam\n",
    "\n",
    "# 设置中文字体\n",
    "plt.rcParams['font.sans-serif'] = ['Heiti TC']\n",
    "plt.rcParams['axes.unicode_minus'] = False"
   ]
  },
  {
   "cell_type": "markdown",
   "metadata": {},
   "source": [
    "## 2.1 文本的序列化\n",
    "\n",
    "- 词元 / Token\n",
    "- 嵌入向量 / Embedding\n",
    "    + 捕捉词元的意义及其与其他词元的关系\n",
    "    +  [Projector](https://projector.tensorflow.org/)\n",
    "    + 嵌入向量的数学计算带有语义含义\n",
    "        -  King - Male + Female = Queen\n",
    "- 位置编码 / Positional Encoding\n",
    "    + “猫追狗” VS “狗追猫”"
   ]
  },
  {
   "cell_type": "code",
   "execution_count": 19,
   "metadata": {},
   "outputs": [
    {
     "name": "stdout",
     "output_type": "stream",
     "text": [
      "=== 步骤1: 数据加载 ===\n",
      "训练集大小: 25000\n",
      "测试集大小: 25000\n",
      "第一个样本原始长度: 218\n",
      "第一个样本前10个token: [1, 14, 22, 16, 43, 530, 973, 1622, 1385, 65]\n"
     ]
    }
   ],
   "source": [
    "# 1. 数据加载和预处理\n",
    "print(\"=== 步骤1: 数据加载 ===\")\n",
    "\n",
    "# 加载IMDB数据集，只使用前5000个最常见的词\n",
    "vocab_size = 5000\n",
    "max_length = 100  # 限制序列长度以便可视化\n",
    "\n",
    "(x_train, y_train), (x_test, y_test) = imdb.load_data(num_words=vocab_size)\n",
    "\n",
    "print(f\"训练集大小: {len(x_train)}\")\n",
    "print(f\"测试集大小: {len(x_test)}\")\n",
    "print(f\"第一个样本原始长度: {len(x_train[0])}\")\n",
    "print(f\"第一个样本前10个token: {x_train[0][:10]}\")"
   ]
  },
  {
   "cell_type": "code",
   "execution_count": 20,
   "metadata": {},
   "outputs": [
    {
     "name": "stdout",
     "output_type": "stream",
     "text": [
      "=== 步骤2: Token化演示 ===\n",
      "样本0的标签: 正面\n",
      "原始token序列前20个: [1, 14, 22, 16, 43, 530, 973, 1622, 1385, 65, 458, 4468, 66, 3941, 4, 173, 36, 256, 5, 25]\n",
      "对应的文本: <START> this film was just brilliant casting location scenery story direction everyone's really suited the part they played and you\n"
     ]
    }
   ],
   "source": [
    "# 2. 展示Token化过程\n",
    "print(\"=== 步骤2: Token化演示 ===\")\n",
    "\n",
    "# 获取词汇表映射\n",
    "word_index = imdb.get_word_index()\n",
    "# 创建反向映射（从索引到词）\n",
    "reverse_word_index = {v+3: k for k, v in word_index.items()}\n",
    "reverse_word_index[0] = '<PAD>'\n",
    "reverse_word_index[1] = '<START>'\n",
    "reverse_word_index[2] = '<UNK>'\n",
    "reverse_word_index[3] = '<UNUSED>'\n",
    "\n",
    "def decode_review(encoded_review):\n",
    "    \"\"\"将token序列转换回文本\"\"\"\n",
    "    return ' '.join([reverse_word_index.get(i, '?') for i in encoded_review])\n",
    "\n",
    "# 展示原始文本和token化结果\n",
    "sample_idx = 0\n",
    "print(f\"样本{sample_idx}的标签: {'正面' if y_train[sample_idx] == 1 else '负面'}\")\n",
    "print(f\"原始token序列前20个: {x_train[sample_idx][:20]}\")\n",
    "print(f\"对应的文本: {decode_review(x_train[sample_idx][:20])}\")"
   ]
  },
  {
   "cell_type": "markdown",
   "metadata": {},
   "source": [
    "## 2.2 Transformer架构\n",
    "- 自注意力机制（self-attention）：保持长距离记忆\n",
    "    + 把面粉、鸡蛋和牛奶放进搅拌机,将*它*摇匀\n",
    "- 查询、键和值（**Q**ueries, **K**ey, **V**alue）\n",
    "    + 查询：它\n",
    "    + 键：面粉、鸡蛋、牛奶，放进，搅拌机，均匀\n",
    "    + 值：代表查询/键关系强弱的数字\n",
    "- Attention\n",
    "    + $$\\text{Attention}(Q,K,V) = \\text{softmax}\\left(\\frac{QK^T}{\\sqrt{d_k}}\\right)V$$\n",
    "    + 如果你真的好奇原理，推荐[Jay Alammar](https://jalammar.github.io/illustrated-transformer/)\n",
    "\n",
    "- Encoder / Decoder\n",
    "    + Encoder：Self-Attention + Feedfoward\n",
    "    + Decoder：Self-Attention + Encoder-Decoder Attention + Feedward\n",
    "    + 将encoder和decoder堆叠起来，形成transfomrer；再把transfomer堆叠起来，变成模型架构\n",
    "\n",
    "- 同构异参：训练的关键是数据量（数量和质量）以及模型参数数量 "
   ]
  },
  {
   "cell_type": "code",
   "execution_count": 21,
   "metadata": {},
   "outputs": [
    {
     "name": "stdout",
     "output_type": "stream",
     "text": [
      "=== 步骤3: 序列填充 ===\n",
      "=== 步骤4: Transformer模型构建 ===\n"
     ]
    },
    {
     "data": {
      "text/html": [
       "<pre style=\"white-space:pre;overflow-x:auto;line-height:normal;font-family:Menlo,'DejaVu Sans Mono',consolas,'Courier New',monospace\"><span style=\"font-weight: bold\">Model: \"functional_18\"</span>\n",
       "</pre>\n"
      ],
      "text/plain": [
       "\u001b[1mModel: \"functional_18\"\u001b[0m\n"
      ]
     },
     "metadata": {},
     "output_type": "display_data"
    },
    {
     "data": {
      "text/html": [
       "<pre style=\"white-space:pre;overflow-x:auto;line-height:normal;font-family:Menlo,'DejaVu Sans Mono',consolas,'Courier New',monospace\">┏━━━━━━━━━━━━━━━━━━━━━┳━━━━━━━━━━━━━━━━━━━┳━━━━━━━━━━━━┳━━━━━━━━━━━━━━━━━━━┓\n",
       "┃<span style=\"font-weight: bold\"> Layer (type)        </span>┃<span style=\"font-weight: bold\"> Output Shape      </span>┃<span style=\"font-weight: bold\">    Param # </span>┃<span style=\"font-weight: bold\"> Connected to      </span>┃\n",
       "┡━━━━━━━━━━━━━━━━━━━━━╇━━━━━━━━━━━━━━━━━━━╇━━━━━━━━━━━━╇━━━━━━━━━━━━━━━━━━━┩\n",
       "│ input_layer_3       │ (<span style=\"color: #00d7ff; text-decoration-color: #00d7ff\">None</span>, <span style=\"color: #00af00; text-decoration-color: #00af00\">100</span>)       │          <span style=\"color: #00af00; text-decoration-color: #00af00\">0</span> │ -                 │\n",
       "│ (<span style=\"color: #0087ff; text-decoration-color: #0087ff\">InputLayer</span>)        │                   │            │                   │\n",
       "├─────────────────────┼───────────────────┼────────────┼───────────────────┤\n",
       "│ embedding           │ (<span style=\"color: #00d7ff; text-decoration-color: #00d7ff\">None</span>, <span style=\"color: #00af00; text-decoration-color: #00af00\">100</span>, <span style=\"color: #00af00; text-decoration-color: #00af00\">64</span>)   │    <span style=\"color: #00af00; text-decoration-color: #00af00\">320,000</span> │ input_layer_3[<span style=\"color: #00af00; text-decoration-color: #00af00\">0</span>]… │\n",
       "│ (<span style=\"color: #0087ff; text-decoration-color: #0087ff\">Embedding</span>)         │                   │            │                   │\n",
       "├─────────────────────┼───────────────────┼────────────┼───────────────────┤\n",
       "│ add (<span style=\"color: #0087ff; text-decoration-color: #0087ff\">Add</span>)           │ (<span style=\"color: #00d7ff; text-decoration-color: #00d7ff\">None</span>, <span style=\"color: #00af00; text-decoration-color: #00af00\">100</span>, <span style=\"color: #00af00; text-decoration-color: #00af00\">64</span>)   │          <span style=\"color: #00af00; text-decoration-color: #00af00\">0</span> │ embedding[<span style=\"color: #00af00; text-decoration-color: #00af00\">0</span>][<span style=\"color: #00af00; text-decoration-color: #00af00\">0</span>]   │\n",
       "├─────────────────────┼───────────────────┼────────────┼───────────────────┤\n",
       "│ simple_attention    │ (<span style=\"color: #00d7ff; text-decoration-color: #00d7ff\">None</span>, <span style=\"color: #00af00; text-decoration-color: #00af00\">100</span>, <span style=\"color: #00af00; text-decoration-color: #00af00\">64</span>)   │     <span style=\"color: #00af00; text-decoration-color: #00af00\">16,640</span> │ add[<span style=\"color: #00af00; text-decoration-color: #00af00\">0</span>][<span style=\"color: #00af00; text-decoration-color: #00af00\">0</span>]         │\n",
       "│ (<span style=\"color: #0087ff; text-decoration-color: #0087ff\">SimpleAttention</span>)   │                   │            │                   │\n",
       "├─────────────────────┼───────────────────┼────────────┼───────────────────┤\n",
       "│ add_1 (<span style=\"color: #0087ff; text-decoration-color: #0087ff\">Add</span>)         │ (<span style=\"color: #00d7ff; text-decoration-color: #00d7ff\">None</span>, <span style=\"color: #00af00; text-decoration-color: #00af00\">100</span>, <span style=\"color: #00af00; text-decoration-color: #00af00\">64</span>)   │          <span style=\"color: #00af00; text-decoration-color: #00af00\">0</span> │ add[<span style=\"color: #00af00; text-decoration-color: #00af00\">0</span>][<span style=\"color: #00af00; text-decoration-color: #00af00\">0</span>],        │\n",
       "│                     │                   │            │ simple_attention… │\n",
       "├─────────────────────┼───────────────────┼────────────┼───────────────────┤\n",
       "│ layer_normalization │ (<span style=\"color: #00d7ff; text-decoration-color: #00d7ff\">None</span>, <span style=\"color: #00af00; text-decoration-color: #00af00\">100</span>, <span style=\"color: #00af00; text-decoration-color: #00af00\">64</span>)   │        <span style=\"color: #00af00; text-decoration-color: #00af00\">128</span> │ add_1[<span style=\"color: #00af00; text-decoration-color: #00af00\">0</span>][<span style=\"color: #00af00; text-decoration-color: #00af00\">0</span>]       │\n",
       "│ (<span style=\"color: #0087ff; text-decoration-color: #0087ff\">LayerNormalizatio…</span> │                   │            │                   │\n",
       "├─────────────────────┼───────────────────┼────────────┼───────────────────┤\n",
       "│ dense_11 (<span style=\"color: #0087ff; text-decoration-color: #0087ff\">Dense</span>)    │ (<span style=\"color: #00d7ff; text-decoration-color: #00d7ff\">None</span>, <span style=\"color: #00af00; text-decoration-color: #00af00\">100</span>, <span style=\"color: #00af00; text-decoration-color: #00af00\">128</span>)  │      <span style=\"color: #00af00; text-decoration-color: #00af00\">8,320</span> │ layer_normalizat… │\n",
       "├─────────────────────┼───────────────────┼────────────┼───────────────────┤\n",
       "│ dense_12 (<span style=\"color: #0087ff; text-decoration-color: #0087ff\">Dense</span>)    │ (<span style=\"color: #00d7ff; text-decoration-color: #00d7ff\">None</span>, <span style=\"color: #00af00; text-decoration-color: #00af00\">100</span>, <span style=\"color: #00af00; text-decoration-color: #00af00\">64</span>)   │      <span style=\"color: #00af00; text-decoration-color: #00af00\">8,256</span> │ dense_11[<span style=\"color: #00af00; text-decoration-color: #00af00\">0</span>][<span style=\"color: #00af00; text-decoration-color: #00af00\">0</span>]    │\n",
       "├─────────────────────┼───────────────────┼────────────┼───────────────────┤\n",
       "│ add_2 (<span style=\"color: #0087ff; text-decoration-color: #0087ff\">Add</span>)         │ (<span style=\"color: #00d7ff; text-decoration-color: #00d7ff\">None</span>, <span style=\"color: #00af00; text-decoration-color: #00af00\">100</span>, <span style=\"color: #00af00; text-decoration-color: #00af00\">64</span>)   │          <span style=\"color: #00af00; text-decoration-color: #00af00\">0</span> │ layer_normalizat… │\n",
       "│                     │                   │            │ dense_12[<span style=\"color: #00af00; text-decoration-color: #00af00\">0</span>][<span style=\"color: #00af00; text-decoration-color: #00af00\">0</span>]    │\n",
       "├─────────────────────┼───────────────────┼────────────┼───────────────────┤\n",
       "│ layer_normalizatio… │ (<span style=\"color: #00d7ff; text-decoration-color: #00d7ff\">None</span>, <span style=\"color: #00af00; text-decoration-color: #00af00\">100</span>, <span style=\"color: #00af00; text-decoration-color: #00af00\">64</span>)   │        <span style=\"color: #00af00; text-decoration-color: #00af00\">128</span> │ add_2[<span style=\"color: #00af00; text-decoration-color: #00af00\">0</span>][<span style=\"color: #00af00; text-decoration-color: #00af00\">0</span>]       │\n",
       "│ (<span style=\"color: #0087ff; text-decoration-color: #0087ff\">LayerNormalizatio…</span> │                   │            │                   │\n",
       "├─────────────────────┼───────────────────┼────────────┼───────────────────┤\n",
       "│ global_average_poo… │ (<span style=\"color: #00d7ff; text-decoration-color: #00d7ff\">None</span>, <span style=\"color: #00af00; text-decoration-color: #00af00\">64</span>)        │          <span style=\"color: #00af00; text-decoration-color: #00af00\">0</span> │ layer_normalizat… │\n",
       "│ (<span style=\"color: #0087ff; text-decoration-color: #0087ff\">GlobalAveragePool…</span> │                   │            │                   │\n",
       "├─────────────────────┼───────────────────┼────────────┼───────────────────┤\n",
       "│ dense_13 (<span style=\"color: #0087ff; text-decoration-color: #0087ff\">Dense</span>)    │ (<span style=\"color: #00d7ff; text-decoration-color: #00d7ff\">None</span>, <span style=\"color: #00af00; text-decoration-color: #00af00\">32</span>)        │      <span style=\"color: #00af00; text-decoration-color: #00af00\">2,080</span> │ global_average_p… │\n",
       "├─────────────────────┼───────────────────┼────────────┼───────────────────┤\n",
       "│ dense_14 (<span style=\"color: #0087ff; text-decoration-color: #0087ff\">Dense</span>)    │ (<span style=\"color: #00d7ff; text-decoration-color: #00d7ff\">None</span>, <span style=\"color: #00af00; text-decoration-color: #00af00\">1</span>)         │         <span style=\"color: #00af00; text-decoration-color: #00af00\">33</span> │ dense_13[<span style=\"color: #00af00; text-decoration-color: #00af00\">0</span>][<span style=\"color: #00af00; text-decoration-color: #00af00\">0</span>]    │\n",
       "└─────────────────────┴───────────────────┴────────────┴───────────────────┘\n",
       "</pre>\n"
      ],
      "text/plain": [
       "┏━━━━━━━━━━━━━━━━━━━━━┳━━━━━━━━━━━━━━━━━━━┳━━━━━━━━━━━━┳━━━━━━━━━━━━━━━━━━━┓\n",
       "┃\u001b[1m \u001b[0m\u001b[1mLayer (type)       \u001b[0m\u001b[1m \u001b[0m┃\u001b[1m \u001b[0m\u001b[1mOutput Shape     \u001b[0m\u001b[1m \u001b[0m┃\u001b[1m \u001b[0m\u001b[1m   Param #\u001b[0m\u001b[1m \u001b[0m┃\u001b[1m \u001b[0m\u001b[1mConnected to     \u001b[0m\u001b[1m \u001b[0m┃\n",
       "┡━━━━━━━━━━━━━━━━━━━━━╇━━━━━━━━━━━━━━━━━━━╇━━━━━━━━━━━━╇━━━━━━━━━━━━━━━━━━━┩\n",
       "│ input_layer_3       │ (\u001b[38;5;45mNone\u001b[0m, \u001b[38;5;34m100\u001b[0m)       │          \u001b[38;5;34m0\u001b[0m │ -                 │\n",
       "│ (\u001b[38;5;33mInputLayer\u001b[0m)        │                   │            │                   │\n",
       "├─────────────────────┼───────────────────┼────────────┼───────────────────┤\n",
       "│ embedding           │ (\u001b[38;5;45mNone\u001b[0m, \u001b[38;5;34m100\u001b[0m, \u001b[38;5;34m64\u001b[0m)   │    \u001b[38;5;34m320,000\u001b[0m │ input_layer_3[\u001b[38;5;34m0\u001b[0m]… │\n",
       "│ (\u001b[38;5;33mEmbedding\u001b[0m)         │                   │            │                   │\n",
       "├─────────────────────┼───────────────────┼────────────┼───────────────────┤\n",
       "│ add (\u001b[38;5;33mAdd\u001b[0m)           │ (\u001b[38;5;45mNone\u001b[0m, \u001b[38;5;34m100\u001b[0m, \u001b[38;5;34m64\u001b[0m)   │          \u001b[38;5;34m0\u001b[0m │ embedding[\u001b[38;5;34m0\u001b[0m][\u001b[38;5;34m0\u001b[0m]   │\n",
       "├─────────────────────┼───────────────────┼────────────┼───────────────────┤\n",
       "│ simple_attention    │ (\u001b[38;5;45mNone\u001b[0m, \u001b[38;5;34m100\u001b[0m, \u001b[38;5;34m64\u001b[0m)   │     \u001b[38;5;34m16,640\u001b[0m │ add[\u001b[38;5;34m0\u001b[0m][\u001b[38;5;34m0\u001b[0m]         │\n",
       "│ (\u001b[38;5;33mSimpleAttention\u001b[0m)   │                   │            │                   │\n",
       "├─────────────────────┼───────────────────┼────────────┼───────────────────┤\n",
       "│ add_1 (\u001b[38;5;33mAdd\u001b[0m)         │ (\u001b[38;5;45mNone\u001b[0m, \u001b[38;5;34m100\u001b[0m, \u001b[38;5;34m64\u001b[0m)   │          \u001b[38;5;34m0\u001b[0m │ add[\u001b[38;5;34m0\u001b[0m][\u001b[38;5;34m0\u001b[0m],        │\n",
       "│                     │                   │            │ simple_attention… │\n",
       "├─────────────────────┼───────────────────┼────────────┼───────────────────┤\n",
       "│ layer_normalization │ (\u001b[38;5;45mNone\u001b[0m, \u001b[38;5;34m100\u001b[0m, \u001b[38;5;34m64\u001b[0m)   │        \u001b[38;5;34m128\u001b[0m │ add_1[\u001b[38;5;34m0\u001b[0m][\u001b[38;5;34m0\u001b[0m]       │\n",
       "│ (\u001b[38;5;33mLayerNormalizatio…\u001b[0m │                   │            │                   │\n",
       "├─────────────────────┼───────────────────┼────────────┼───────────────────┤\n",
       "│ dense_11 (\u001b[38;5;33mDense\u001b[0m)    │ (\u001b[38;5;45mNone\u001b[0m, \u001b[38;5;34m100\u001b[0m, \u001b[38;5;34m128\u001b[0m)  │      \u001b[38;5;34m8,320\u001b[0m │ layer_normalizat… │\n",
       "├─────────────────────┼───────────────────┼────────────┼───────────────────┤\n",
       "│ dense_12 (\u001b[38;5;33mDense\u001b[0m)    │ (\u001b[38;5;45mNone\u001b[0m, \u001b[38;5;34m100\u001b[0m, \u001b[38;5;34m64\u001b[0m)   │      \u001b[38;5;34m8,256\u001b[0m │ dense_11[\u001b[38;5;34m0\u001b[0m][\u001b[38;5;34m0\u001b[0m]    │\n",
       "├─────────────────────┼───────────────────┼────────────┼───────────────────┤\n",
       "│ add_2 (\u001b[38;5;33mAdd\u001b[0m)         │ (\u001b[38;5;45mNone\u001b[0m, \u001b[38;5;34m100\u001b[0m, \u001b[38;5;34m64\u001b[0m)   │          \u001b[38;5;34m0\u001b[0m │ layer_normalizat… │\n",
       "│                     │                   │            │ dense_12[\u001b[38;5;34m0\u001b[0m][\u001b[38;5;34m0\u001b[0m]    │\n",
       "├─────────────────────┼───────────────────┼────────────┼───────────────────┤\n",
       "│ layer_normalizatio… │ (\u001b[38;5;45mNone\u001b[0m, \u001b[38;5;34m100\u001b[0m, \u001b[38;5;34m64\u001b[0m)   │        \u001b[38;5;34m128\u001b[0m │ add_2[\u001b[38;5;34m0\u001b[0m][\u001b[38;5;34m0\u001b[0m]       │\n",
       "│ (\u001b[38;5;33mLayerNormalizatio…\u001b[0m │                   │            │                   │\n",
       "├─────────────────────┼───────────────────┼────────────┼───────────────────┤\n",
       "│ global_average_poo… │ (\u001b[38;5;45mNone\u001b[0m, \u001b[38;5;34m64\u001b[0m)        │          \u001b[38;5;34m0\u001b[0m │ layer_normalizat… │\n",
       "│ (\u001b[38;5;33mGlobalAveragePool…\u001b[0m │                   │            │                   │\n",
       "├─────────────────────┼───────────────────┼────────────┼───────────────────┤\n",
       "│ dense_13 (\u001b[38;5;33mDense\u001b[0m)    │ (\u001b[38;5;45mNone\u001b[0m, \u001b[38;5;34m32\u001b[0m)        │      \u001b[38;5;34m2,080\u001b[0m │ global_average_p… │\n",
       "├─────────────────────┼───────────────────┼────────────┼───────────────────┤\n",
       "│ dense_14 (\u001b[38;5;33mDense\u001b[0m)    │ (\u001b[38;5;45mNone\u001b[0m, \u001b[38;5;34m1\u001b[0m)         │         \u001b[38;5;34m33\u001b[0m │ dense_13[\u001b[38;5;34m0\u001b[0m][\u001b[38;5;34m0\u001b[0m]    │\n",
       "└─────────────────────┴───────────────────┴────────────┴───────────────────┘\n"
      ]
     },
     "metadata": {},
     "output_type": "display_data"
    },
    {
     "data": {
      "text/html": [
       "<pre style=\"white-space:pre;overflow-x:auto;line-height:normal;font-family:Menlo,'DejaVu Sans Mono',consolas,'Courier New',monospace\"><span style=\"font-weight: bold\"> Total params: </span><span style=\"color: #00af00; text-decoration-color: #00af00\">355,585</span> (1.36 MB)\n",
       "</pre>\n"
      ],
      "text/plain": [
       "\u001b[1m Total params: \u001b[0m\u001b[38;5;34m355,585\u001b[0m (1.36 MB)\n"
      ]
     },
     "metadata": {},
     "output_type": "display_data"
    },
    {
     "data": {
      "text/html": [
       "<pre style=\"white-space:pre;overflow-x:auto;line-height:normal;font-family:Menlo,'DejaVu Sans Mono',consolas,'Courier New',monospace\"><span style=\"font-weight: bold\"> Trainable params: </span><span style=\"color: #00af00; text-decoration-color: #00af00\">355,585</span> (1.36 MB)\n",
       "</pre>\n"
      ],
      "text/plain": [
       "\u001b[1m Trainable params: \u001b[0m\u001b[38;5;34m355,585\u001b[0m (1.36 MB)\n"
      ]
     },
     "metadata": {},
     "output_type": "display_data"
    },
    {
     "data": {
      "text/html": [
       "<pre style=\"white-space:pre;overflow-x:auto;line-height:normal;font-family:Menlo,'DejaVu Sans Mono',consolas,'Courier New',monospace\"><span style=\"font-weight: bold\"> Non-trainable params: </span><span style=\"color: #00af00; text-decoration-color: #00af00\">0</span> (0.00 B)\n",
       "</pre>\n"
      ],
      "text/plain": [
       "\u001b[1m Non-trainable params: \u001b[0m\u001b[38;5;34m0\u001b[0m (0.00 B)\n"
      ]
     },
     "metadata": {},
     "output_type": "display_data"
    },
    {
     "name": "stdout",
     "output_type": "stream",
     "text": [
      "None\n"
     ]
    }
   ],
   "source": [
    "# 3. 序列填充和准备\n",
    "print(\"=== 步骤3: 序列填充 ===\")\n",
    "\n",
    "# 填充序列到固定长度\n",
    "x_train = pad_sequences(x_train, maxlen=max_length, padding='post', truncating='post')\n",
    "x_test = pad_sequences(x_test, maxlen=max_length, padding='post', truncating='post')\n",
    "# 标签转换为二分类\n",
    "y_train = np.array(y_train)\n",
    "y_test = np.array(y_test)\n",
    "\n",
    "# 4. 简单的Transformer模型定义\n",
    "print(\"=== 步骤4: Transformer模型构建 ===\")\n",
    "\n",
    "class SimpleAttention(layers.Layer):\n",
    "    def __init__(self, d_model, num_heads=1):\n",
    "        super(SimpleAttention, self).__init__()\n",
    "        self.num_heads = num_heads\n",
    "        self.d_model = d_model\n",
    "        \n",
    "        assert d_model % self.num_heads == 0\n",
    "        \n",
    "        self.depth = d_model // self.num_heads\n",
    "        \n",
    "        self.wq = layers.Dense(d_model)\n",
    "        self.wk = layers.Dense(d_model)\n",
    "        self.wv = layers.Dense(d_model)\n",
    "        \n",
    "        self.dense = layers.Dense(d_model)\n",
    "        \n",
    "    def scaled_dot_product_attention(self, q, k, v, mask=None):\n",
    "        \"\"\"计算注意力权重\"\"\"\n",
    "        matmul_qk = tf.matmul(q, k, transpose_b=True)\n",
    "        \n",
    "        # 缩放\n",
    "        dk = tf.cast(tf.shape(k)[-1], tf.float32)\n",
    "        scaled_attention_logits = matmul_qk / tf.math.sqrt(dk)\n",
    "        \n",
    "        # 添加mask（可选）\n",
    "        if mask is not None:\n",
    "            scaled_attention_logits += (mask * -1e9)\n",
    "            \n",
    "        # softmax\n",
    "        attention_weights = tf.nn.softmax(scaled_attention_logits, axis=-1)\n",
    "        \n",
    "        output = tf.matmul(attention_weights, v)\n",
    "        \n",
    "        return output, attention_weights\n",
    "    \n",
    "    def call(self, x):\n",
    "        batch_size = tf.shape(x)[0]\n",
    "        \n",
    "        q = self.wq(x)\n",
    "        k = self.wk(x)\n",
    "        v = self.wv(x)\n",
    "        \n",
    "        # 计算注意力\n",
    "        attention, attention_weights = self.scaled_dot_product_attention(q, k, v)\n",
    "        \n",
    "        output = self.dense(attention)\n",
    "        \n",
    "        # 保存注意力权重用于可视化\n",
    "        self.last_attention_weights = attention_weights\n",
    "        \n",
    "        return output\n",
    "\n",
    "def create_simple_transformer(vocab_size, max_length, embedding_dim=64):\n",
    "    \"\"\"创建简单的Transformer模型\"\"\"\n",
    "    inputs = layers.Input(shape=(max_length,))\n",
    "    \n",
    "    # Embedding层\n",
    "    embedding = layers.Embedding(vocab_size, embedding_dim, mask_zero=True)(inputs)\n",
    "    \n",
    "    # 位置编码（简化版）\n",
    "    positions = tf.range(start=0, limit=max_length, delta=1)\n",
    "    positions = layers.Embedding(max_length, embedding_dim)(positions)\n",
    "    x = embedding + positions\n",
    "    \n",
    "    # Transformer块\n",
    "    attention = SimpleAttention(embedding_dim)\n",
    "    attended = attention(x)\n",
    "    \n",
    "    # 残差连接和层归一化\n",
    "    x = layers.Add()([x, attended])\n",
    "    x = layers.LayerNormalization()(x)\n",
    "    \n",
    "    # 前馈网络\n",
    "    ff = layers.Dense(128, activation='relu')(x)\n",
    "    ff = layers.Dense(embedding_dim)(ff)\n",
    "    \n",
    "    # 残差连接和层归一化\n",
    "    x = layers.Add()([x, ff])\n",
    "    x = layers.LayerNormalization()(x)\n",
    "    \n",
    "    # 全局平均池化\n",
    "    x = layers.GlobalAveragePooling1D()(x)\n",
    "    \n",
    "    # 分类层\n",
    "    x = layers.Dense(32, activation='relu')(x)\n",
    "    outputs = layers.Dense(1, activation='sigmoid')(x)\n",
    "    \n",
    "    model = Model(inputs, outputs)\n",
    "    \n",
    "    return model, attention\n",
    "\n",
    "# 创建模型\n",
    "embedding_dim = 64\n",
    "model, attention_layer = create_simple_transformer(vocab_size, max_length, embedding_dim)\n",
    "\n",
    "model.compile(\n",
    "    optimizer=Adam(learning_rate=0.001),\n",
    "    loss='binary_crossentropy',\n",
    "    metrics=['accuracy']\n",
    ")\n",
    "\n",
    "print(model.summary())"
   ]
  },
  {
   "cell_type": "code",
   "execution_count": 22,
   "metadata": {},
   "outputs": [
    {
     "name": "stdout",
     "output_type": "stream",
     "text": [
      "=== 步骤6: 模型训练 ===\n",
      "Epoch 1/3\n",
      "\u001b[1m32/32\u001b[0m \u001b[32m━━━━━━━━━━━━━━━━━━━━\u001b[0m\u001b[37m\u001b[0m \u001b[1m2s\u001b[0m 32ms/step - accuracy: 0.5237 - loss: 0.7172 - val_accuracy: 0.6150 - val_loss: 0.6362\n",
      "Epoch 2/3\n",
      "\u001b[1m32/32\u001b[0m \u001b[32m━━━━━━━━━━━━━━━━━━━━\u001b[0m\u001b[37m\u001b[0m \u001b[1m1s\u001b[0m 29ms/step - accuracy: 0.7561 - loss: 0.5514 - val_accuracy: 0.6700 - val_loss: 0.6795\n",
      "Epoch 3/3\n",
      "\u001b[1m32/32\u001b[0m \u001b[32m━━━━━━━━━━━━━━━━━━━━\u001b[0m\u001b[37m\u001b[0m \u001b[1m1s\u001b[0m 25ms/step - accuracy: 0.9060 - loss: 0.2992 - val_accuracy: 0.7300 - val_loss: 0.6525\n"
     ]
    }
   ],
   "source": [
    "# 6. 训练模型（简短训练用于演示）\n",
    "print(\"=== 步骤6: 模型训练 ===\")\n",
    "\n",
    "# 使用小批量数据进行快速演示\n",
    "train_samples = 1000\n",
    "test_samples = 200\n",
    "\n",
    "history = model.fit(\n",
    "    x_train[:train_samples], \n",
    "    y_train[:train_samples],\n",
    "    batch_size=32,\n",
    "    epochs=3,\n",
    "    validation_data=(x_test[:test_samples], y_test[:test_samples]),\n",
    "    verbose=1\n",
    ")\n"
   ]
  },
  {
   "cell_type": "code",
   "execution_count": 24,
   "metadata": {},
   "outputs": [
    {
     "name": "stdout",
     "output_type": "stream",
     "text": [
      "=== 步骤7: 注意力机制可视化 ===\n",
      "注意力权重形状: (100, 100)\n"
     ]
    },
    {
     "data": {
      "image/png": "[encoded data removed]",
      "text/plain": [
       "<Figure size 1200x1000 with 2 Axes>"
      ]
     },
     "metadata": {},
     "output_type": "display_data"
    },
    {
     "name": "stdout",
     "output_type": "stream",
     "text": [
      "\n",
      "注意力权重解释:\n",
      "矩阵中的每一行表示一个query词对所有key词的注意力权重\n",
      "颜色越深表示注意力权重越高\n",
      "样本文本: <START> this film was just brilliant casting location scenery story direction everyone's really suited the part they played and you\n",
      "\n",
      "示例：第一个词 '<START>' 对其他词的注意力权重:\n",
      "  对 '<START>' 的注意力: 0.0100\n",
      "  对 'this' 的注意力: 0.0101\n",
      "  对 'film' 的注意力: 0.0100\n",
      "  对 'was' 的注意力: 0.0100\n",
      "  对 'just' 的注意力: 0.0100\n"
     ]
    }
   ],
   "source": [
    "# 7. 可视化注意力矩阵\n",
    "print(\"=== 步骤7: 注意力机制可视化 ===\")\n",
    "\n",
    "# 获取一个样本的注意力权重\n",
    "sample_for_attention = x_train[sample_idx:sample_idx+1]\n",
    "_ = model(sample_for_attention)  # 前向传播以计算注意力\n",
    "\n",
    "# 获取注意力权重 - 修复：检查是否已经是numpy数组\n",
    "attention_weights = attention_layer.last_attention_weights[0]\n",
    "if hasattr(attention_weights, 'numpy'):\n",
    "    attention_weights = attention_weights.numpy()  # 如果是tensor则转换\n",
    "# 如果已经是numpy数组，直接使用\n",
    "\n",
    "print(f\"注意力权重形状: {attention_weights.shape}\")\n",
    "\n",
    "# 只显示前20x20的注意力矩阵以便观察\n",
    "seq_len_to_show = min(20, attention_weights.shape[0])\n",
    "attention_subset = attention_weights[:seq_len_to_show, :seq_len_to_show]\n",
    "tokens_subset = sample_for_attention[0, :seq_len_to_show]\n",
    "\n",
    "# 确保tokens_subset也是numpy数组\n",
    "if hasattr(tokens_subset, 'numpy'):\n",
    "    tokens_subset = tokens_subset.numpy()\n",
    "\n",
    "words_subset = [reverse_word_index.get(int(token), '<PAD>') for token in tokens_subset]\n",
    "\n",
    "plt.figure(figsize=(12, 10))\n",
    "sns.heatmap(\n",
    "    attention_subset,\n",
    "    xticklabels=words_subset,\n",
    "    yticklabels=words_subset,\n",
    "    cmap='Blues',\n",
    "    annot=False,\n",
    "    fmt='.2f'\n",
    ")\n",
    "plt.title('注意力权重矩阵 (前20个token)')\n",
    "plt.xlabel('Key (被关注的词)')\n",
    "plt.ylabel('Query (查询的词)')\n",
    "plt.xticks(rotation=45, ha='right')\n",
    "plt.yticks(rotation=0)\n",
    "plt.tight_layout()\n",
    "plt.show()\n",
    "\n",
    "# 显示具体的注意力值\n",
    "print(\"\\n注意力权重解释:\")\n",
    "print(\"矩阵中的每一行表示一个query词对所有key词的注意力权重\")\n",
    "print(\"颜色越深表示注意力权重越高\")\n",
    "print(f\"样本文本: {decode_review(tokens_subset)}\")\n",
    "\n",
    "# 显示一些具体的注意力值示例\n",
    "print(f\"\\n示例：第一个词 '{words_subset[0]}' 对其他词的注意力权重:\")\n",
    "for j in range(min(5, len(words_subset))):\n",
    "    print(f\"  对 '{words_subset[j]}' 的注意力: {attention_subset[0, j]:.4f}\")"
   ]
  },
  {
   "cell_type": "code",
   "execution_count": 25,
   "metadata": {},
   "outputs": [
    {
     "name": "stdout",
     "output_type": "stream",
     "text": [
      "=== 步骤8: 模型预测演示 ===\n",
      "\u001b[1m1/1\u001b[0m \u001b[32m━━━━━━━━━━━━━━━━━━━━\u001b[0m\u001b[37m\u001b[0m \u001b[1m0s\u001b[0m 246ms/step\n",
      "\n",
      "样本 1:\n",
      "文本片段: <START> please give this one a miss br br <UNK> <UNK> and the rest of the cast <UNK> terrible performances the show is flat flat flat br br i don't\n",
      "实际标签: 负面\n",
      "预测概率: 0.4934\n",
      "预测标签: 负面\n",
      "预测正确\n",
      "\n",
      "样本 2:\n",
      "文本片段: <START> this film requires a lot of <UNK> because it focuses on mood and character development the plot is very simple and many of the scenes take place on the\n",
      "实际标签: 正面\n",
      "预测概率: 0.8800\n",
      "预测标签: 正面\n",
      "预测正确\n",
      "\n",
      "样本 3:\n",
      "文本片段: <START> many animation buffs consider <UNK> <UNK> the great forgotten genius of one special <UNK> of the art <UNK> animation which he <UNK> almost single <UNK> and as it happened\n",
      "实际标签: 正面\n",
      "预测概率: 0.9867\n",
      "预测标签: 正面\n",
      "预测正确\n",
      "\n",
      "样本 4:\n",
      "文本片段: <START> i generally love this type of movie however this time i found myself wanting to kick the screen since i can't do that i will just complain about it\n",
      "实际标签: 负面\n",
      "预测概率: 0.0115\n",
      "预测标签: 负面\n",
      "预测正确\n",
      "\n",
      "样本 5:\n",
      "文本片段: <START> like some other people wrote i'm a die hard mario fan and i loved this game br br this game starts slightly boring but trust me it's worth it\n",
      "实际标签: 正面\n",
      "预测概率: 0.6884\n",
      "预测标签: 正面\n",
      "预测正确\n"
     ]
    }
   ],
   "source": [
    "# 8. 模型预测和解释\n",
    "print(\"=== 步骤8: 模型预测演示 ===\")\n",
    "\n",
    "# 预测几个样本\n",
    "test_samples_for_pred = x_test[:5]\n",
    "predictions = model.predict(test_samples_for_pred)\n",
    "\n",
    "for i in range(5):\n",
    "    actual_label = \"正面\" if y_test[i] == 1 else \"负面\"\n",
    "    predicted_prob = predictions[i][0]\n",
    "    predicted_label = \"正面\" if predicted_prob > 0.5 else \"负面\"\n",
    "    \n",
    "    print(f\"\\n样本 {i+1}:\")\n",
    "    print(f\"文本片段: {decode_review(test_samples_for_pred[i][:30])}\")\n",
    "    print(f\"实际标签: {actual_label}\")\n",
    "    print(f\"预测概率: {predicted_prob:.4f}\")\n",
    "    print(f\"预测标签: {predicted_label}\")\n",
    "    print(f\"预测{'正确' if actual_label == predicted_label else '错误'}\")"
   ]
  },
  {
   "cell_type": "markdown",
   "metadata": {},
   "source": [
    "## 2.3 Decoder Only & GPT\n",
    "\n",
    "- Decoder Only架构：只看上文，不看下文 -> next token prediction\n",
    "- 在参数量极大的情况下依然能够保留长距离记忆"
   ]
  },
  {
   "cell_type": "markdown",
   "metadata": {},
   "source": [
    "# 回家作业【选做】：以MNIST炼一炉丹\n",
    "\n",
    "和ML选型相对还有一些数学直觉和验证之外，DL的参数选型的反馈只有通过数据集的验证才能看到结果。\n",
    "\n",
    "这种方式非常接近中世纪化学发明前的Alchemy，所以DL也被称为“炼金术”，DL研究人员戏称自己为“炼丹师”。\n",
    "\n",
    "你可以挑选一些参数，来观察他们的变化对模型训练的影响。\n",
    "\n",
    "    - 模型架构：增加卷积层，改变activation方式，改变kernel size和stride\n",
    "    - 优化器：SGD，Adam[基本是标配]，AdamW；学习速率\n",
    "    - 损失函数：categorical_crossentropy[基本是标配]，MSE\n",
    "    - 训练过程：epochs，batch size\n"
   ]
  }
 ],
 "metadata": {
  "kernelspec": {
   "display_name": "genai2025-EbBYtNEX-py3.11",
   "language": "python",
   "name": "python3"
  },
  "language_info": {
   "codemirror_mode": {
    "name": "ipython",
    "version": 3
   },
   "file_extension": ".py",
   "mimetype": "text/x-python",
   "name": "python",
   "nbconvert_exporter": "python",
   "pygments_lexer": "ipython3",
   "version": "3.11.2"
  }
 },
 "nbformat": 4,
 "nbformat_minor": 2
}
