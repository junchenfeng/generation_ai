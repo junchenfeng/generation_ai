{
 "cells": [
  {
   "cell_type": "markdown",
   "metadata": {},
   "source": [
    "# 机器学习部分"
   ]
  },
  {
   "cell_type": "code",
   "execution_count": 1,
   "metadata": {},
   "outputs": [],
   "source": [
    "# 中文图片\n",
    "import matplotlib.pyplot as plt\n",
    "import seaborn as sns\n",
    "# 设置中文字体\n",
    "try:\n",
    "    plt.rcParams['font.sans-serif'] = ['Heiti TC'] # 或者 'Arial Unicode MS', 'PingFang SC' 等\n",
    "    plt.rcParams['axes.unicode_minus'] = False\n",
    "except Exception as e:\n",
    "    print(f\"设置中文字体失败: {e}。标签可能显示不正确。\")"
   ]
  },
  {
   "cell_type": "code",
   "execution_count": null,
   "metadata": {},
   "outputs": [],
   "source": [
    "# scikit-learn\n",
    "from sklearn.model_selection import train_test_split\n",
    "from sklearn.tree import DecisionTreeClassifier\n",
    "from sklearn.metrics import f1_score, roc_auc_score, roc_curve"
   ]
  },
  {
   "cell_type": "code",
   "execution_count": 2,
   "metadata": {},
   "outputs": [],
   "source": [
    "# CNN\n",
    "from tensorflow.keras.datasets import mnist\n",
    "from tensorflow.keras.utils import to_categorical\n",
    "from tensorflow.keras.models import Sequential\n",
    "from tensorflow.keras.layers import Conv2D, MaxPooling2D, Flatten, Dense\n",
    "from tensorflow.keras.optimizers import SGD"
   ]
  },
  {
   "cell_type": "markdown",
   "metadata": {},
   "source": [
    "# LLM"
   ]
  },
  {
   "cell_type": "code",
   "execution_count": null,
   "metadata": {},
   "outputs": [],
   "source": [
    "import os\n",
    "from dotenv import load_dotenv  # .env 应该在根目录下\n",
    "import pandas as pd\n",
    "\n",
    "load_dotenv()  # 敏感信息不能明文展示\n",
    "api_key = os.getenv('OPENAI_API_KEY')\n",
    "\n",
    "from openai import OpenAI\n",
    "\n",
    "client = OpenAI(\n",
    "            api_key=api_key,\n",
    "            base_url=\"https://api.aaaapi.com/v1\")\n",
    "\n",
    "user_prompt = \"你好,请介绍一下你自己\"\n",
    "\n",
    "response = client.chat.completions.create(\n",
    "    model=\"gpt-4o\",  \n",
    "    messages=[\n",
    "        {\"role\": \"user\", \"content\": user_prompt}\n",
    "    ]\n",
    ")\n",
    "# 返回助手的回复\n",
    "assistant_reply = response.choices[0].message.content\n",
    "\n",
    "\n",
    "# 测试代码\n",
    "print(f\"用户: {user_prompt}\")\n",
    "print(f\"AI助手: {assistant_reply}\")"
   ]
  }
 ],
 "metadata": {
  "kernelspec": {
   "display_name": "genai2025-EbBYtNEX-py3.11",
   "language": "python",
   "name": "python3"
  },
  "language_info": {
   "codemirror_mode": {
    "name": "ipython",
    "version": 3
   },
   "file_extension": ".py",
   "mimetype": "text/x-python",
   "name": "python",
   "nbconvert_exporter": "python",
   "pygments_lexer": "ipython3",
   "version": "3.11.2"
  }
 },
 "nbformat": 4,
 "nbformat_minor": 2
}
