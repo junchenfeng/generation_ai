{
 "cells": [
  {
   "cell_type": "markdown",
   "metadata": {},
   "source": [
    "# Cursor：Agent初体验"
   ]
  },
  {
   "cell_type": "markdown",
   "metadata": {},
   "source": [
    "## 三种Agent模式\n",
    "\n",
    "- Workflow Agent（工作流Agent）：预先编排固定节点，Agent只做执行。典型例子，Coze，Dify\n",
    "- Agentic Agent （又叫规划式Agent）：Agent具备规划能力。典型例子，各类Deep Research， Manus，Cursor\n",
    "  + 全自动：无人干预，Cursor的Agent模式\n",
    "  + 人机合作模式： Human In the Loop，Cursor的Ask模式"
   ]
  },
  {
   "cell_type": "markdown",
   "metadata": {},
   "source": [
    "Cursor可以说是市场上最成熟的Agentic Agent产品。通过深入体验Cursor，理解现在Agent能做什么和不能做什么。"
   ]
  },
  {
   "cell_type": "markdown",
   "metadata": {},
   "source": [
    "## 1. 配置Cursor"
   ]
  },
  {
   "cell_type": "markdown",
   "metadata": {},
   "source": [
    "### 1.1 Cursor界面\n",
    "\n",
    "1. 演示改变panel layout\n",
    "2. 演示左侧功能栏\n",
    "3. 演示右侧chat的配置和引用"
   ]
  },
  {
   "cell_type": "markdown",
   "metadata": {},
   "source": [
    "### 1.2 Cursor的基础配置\n",
    "\n",
    "- Python Debug插件： 左侧扩展栏里搜索Python Debugger\n",
    "- 自动保存： \n",
    "    + 首选项 -> 设置 -> 搜索File Autosave -> 下拉框选择onFocusChange（切换窗口）。\n",
    "    + 这确保你在点击运行时一定运行最新代码，否则很容易出现改了没保存以为改了没用的情况\n",
    "- 自动化程度：进入刺激的Yolo模式\n",
    "    + 首选项 -> Cursor Settings -> Feature -> Enable auto-run mode\n",
    "    + Command Denylist 里增加mkdir（不允许cursor自动建文件夹）\n",
    "    + 选中下面四个protection，最重要的是不允许它自动删除"
   ]
  },
  {
   "cell_type": "markdown",
   "metadata": {},
   "source": [
    "### 1.3 Cursor Rules\n",
    "\n",
    "- User Rules：请以中文回答\n",
    "- Project Rules：状态选择“Always”"
   ]
  },
  {
   "cell_type": "markdown",
   "metadata": {},
   "source": [
    "**protocal.mdc**\n",
    "```\n",
    "1. 最小修改原则：每次修改都尽可能小。如果需要添加/更换依赖、调整技术栈、变更设计模式、更换函数签名等，如需调整需要和人类确认；\n",
    "\n",
    "2. 可验证原则：每个修改都要有明确的证据，确定验证方法，避免反复无效的调整；\n",
    "\n",
    "3. 透明性原则：保持清晰的修改记录和沟通；\n",
    "```"
   ]
  },
  {
   "cell_type": "markdown",
   "metadata": {},
   "source": [
    "**debug.mdc**\n",
    "```\n",
    "除非人类要求，否则**不要在debug中解决lint错误**\n",
    "在执行测试调试任务时，AI 助手必须严格遵循以下流程，以确保调试过程清晰、有条理且高效：\n",
    "\n",
    "1. 问题描述: 先对当前问题进行描述，包括现象描述、日志；\n",
    "\n",
    "2. 现象分析: 对上下文进行评估，列举可能的证据，通过工具收集更多证据，��括代码证据、日志证据、文档证据等, 分析问题的根因；\n",
    "\n",
    "3. 设计方案: 设计调试方案，明确预期的结果表现，预测可能的影响和进展；\n",
    "\n",
    "4. 执行验证: 根据调试方案执行测试命令，观察结果，如果结果不符合预期，需要对问题进行总结和复盘, 然后进入下一轮调整；\n",
    "```"
   ]
  },
  {
   "cell_type": "markdown",
   "metadata": {},
   "source": [
    "**tech-stack.mdc**\n",
    "```\n",
    "- 主要语言 python 3.11。\n",
    "- 使用poetry进行虚拟环境管理，需要使用`poetry run`执行python程序\n",
    "- 主要package\n",
    "    + scikit-learn == 1.6.1\n",
    "    + xgboost == 3.0.0\n",
    "    + openai==1.78.0\n",
    "    + pandas==2.2.3\n",
    "    + pytest==8.3.5\n",
    "```"
   ]
  },
  {
   "cell_type": "markdown",
   "metadata": {},
   "source": [
    "# 2. AI辅助编程\n",
    "\n",
    "县太爷开堂 有师爷（参谋）有衙役（执行），县太爷要做决策"
   ]
  },
  {
   "cell_type": "markdown",
   "metadata": {},
   "source": [
    "点击 左侧功能栏，在测试中增加`tutorial/Design Algo With Cursor`\n",
    "\n",
    "展开 `TestGraphAdvanced`下面有4个`test_`函数。点击左侧运行（右侧是debug）箭头，会全部失败。\n",
    "\n",
    "下面要逐个完成任务。请使用Ask模式，模型选择Gemini 2.5pro。 Gemini 2.5 pro的输出较详细且整体编码质量较高"
   ]
  },
  {
   "cell_type": "markdown",
   "metadata": {},
   "source": [
    "# 3. 辅助AI编程"
   ]
  },
  {
   "cell_type": "markdown",
   "metadata": {},
   "source": [
    "上面我们尝试了让AI辅助我们编程，这是一个典型的Human In the Loop（HIL）模式。下面我们来尝试一下Auto Agent的模式。\n",
    "\n",
    "将模式调为Agent，模型调为Auto。请你设计一段提示词来让cursor完成GraphAdvanced这个类。\n",
    "\n",
    "HINT：使用测试驱动开发的方法（Test Driven Development），让测试结果作为AI代码质量的试金石"
   ]
  }
 ],
 "metadata": {
  "language_info": {
   "name": "python"
  }
 },
 "nbformat": 4,
 "nbformat_minor": 2
}
