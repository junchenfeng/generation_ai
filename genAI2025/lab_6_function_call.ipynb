{
 "cells": [
  {
   "cell_type": "markdown",
   "metadata": {},
   "source": [
    "# Lab 6 Function Calling and Tools"
   ]
  },
  {
   "cell_type": "markdown",
   "metadata": {},
   "source": [
    "## 1. Function Call"
   ]
  },
  {
   "cell_type": "code",
   "execution_count": 1,
   "metadata": {},
   "outputs": [],
   "source": [
    "import os\n",
    "from dotenv import load_dotenv\n",
    "from openai import OpenAI\n",
    "\n",
    "load_dotenv()  # 敏感信息不能明文展示\n",
    "api_key = os.getenv('OPENAI_SECRET')\n",
    "\n",
    "client = OpenAI(api_key=api_key)"
   ]
  },
  {
   "cell_type": "markdown",
   "metadata": {},
   "source": [
    "## 1.1 Schema"
   ]
  },
  {
   "cell_type": "code",
   "execution_count": null,
   "metadata": {},
   "outputs": [],
   "source": [
    "# Display the image\n",
    "file_path = \"data/function-calling-diagram-steps.png\"\n",
    "from IPython.display import Image\n",
    "Image(filename=file_path)"
   ]
  },
  {
   "cell_type": "markdown",
   "metadata": {},
   "source": [
    "## 1.2 工具选择"
   ]
  },
  {
   "cell_type": "code",
   "execution_count": 4,
   "metadata": {},
   "outputs": [],
   "source": [
    "tools = [{\n",
    "    \"type\": \"function\",\n",
    "    \"name\": \"get_weather\",\n",
    "    \"description\": \"Get current temperature for provided coordinates in celsius.\",\n",
    "    \"parameters\": {\n",
    "        \"type\": \"object\",\n",
    "        \"properties\": {\n",
    "            \"latitude\": {\"type\": \"number\"},\n",
    "            \"longitude\": {\"type\": \"number\"}\n",
    "        },\n",
    "        \"required\": [\"latitude\", \"longitude\"],\n",
    "        \"additionalProperties\": False\n",
    "    },\n",
    "    \"strict\": True\n",
    "}]\n",
    "\n",
    "input_messages = [{\"role\": \"user\", \"content\": \"北京天气怎么样？\"}]\n",
    "\n",
    "\n",
    "response = client.responses.create(\n",
    "    model=\"gpt-4.1\",\n",
    "    input=input_messages,\n",
    "    tools=tools\n",
    ")\n",
    "\n"
   ]
  },
  {
   "cell_type": "code",
   "execution_count": null,
   "metadata": {},
   "outputs": [],
   "source": [
    "tool_call = response.output[0]\n",
    "\n",
    "print(f\"你需要执行函数 {tool_call.name} ，入参是 {tool_call.arguments}\")\n"
   ]
  },
  {
   "cell_type": "markdown",
   "metadata": {},
   "source": [
    "### ? **思考**\n",
    "\n",
    "大模型在这里做了几步推理？"
   ]
  },
  {
   "cell_type": "markdown",
   "metadata": {},
   "source": [
    "## 1.2 本地工具执行"
   ]
  },
  {
   "cell_type": "code",
   "execution_count": 12,
   "metadata": {},
   "outputs": [],
   "source": [
    "def get_weather(latitude:float, longitude:float) -> float:\n",
    "    # mock \n",
    "    print(f\"latitude: {latitude}, longitude: {longitude}\")\n",
    "    return 14.0"
   ]
  },
  {
   "cell_type": "code",
   "execution_count": null,
   "metadata": {},
   "outputs": [],
   "source": [
    "import json\n",
    "args = json.loads(tool_call.arguments)\n",
    "\n",
    "# 先让我们手动执行\n",
    "result = get_weather(args[\"latitude\"], args[\"longitude\"])\n",
    "print(result)"
   ]
  },
  {
   "cell_type": "markdown",
   "metadata": {},
   "source": [
    "特殊的python语法糖，用`**`传入所有参数的键值对"
   ]
  },
  {
   "cell_type": "code",
   "execution_count": null,
   "metadata": {},
   "outputs": [],
   "source": [
    "result = get_weather(**args)\n",
    "print(result)"
   ]
  },
  {
   "cell_type": "markdown",
   "metadata": {},
   "source": [
    "`eval`函数将字符串定义的操作符计算"
   ]
  },
  {
   "cell_type": "code",
   "execution_count": null,
   "metadata": {},
   "outputs": [],
   "source": [
    "eval(\"3*4\")"
   ]
  },
  {
   "cell_type": "code",
   "execution_count": null,
   "metadata": {},
   "outputs": [],
   "source": [
    "# 利用eval这个函数执行一个字符串\n",
    "exec_command = f\"{tool_call.name}(**{args})\"  # NOTE:在这里用 f\"{tool_call.name}(**{tool_call.arguments})\"也可以\n",
    "result = eval(exec_command)\n",
    "print(f\"execute {exec_command} and get result {result}\")"
   ]
  },
  {
   "cell_type": "markdown",
   "metadata": {},
   "source": [
    "## 1.3 回传(Callback)"
   ]
  },
  {
   "cell_type": "markdown",
   "metadata": {},
   "source": [
    "通过call id来实现同一个会话的上下文跟踪"
   ]
  },
  {
   "cell_type": "code",
   "execution_count": null,
   "metadata": {},
   "outputs": [],
   "source": [
    "input_messages.append(tool_call)  # append model's function call message\n",
    "input_messages.append({                               # append result message\n",
    "    \"type\": \"function_call_output\",\n",
    "    \"call_id\": tool_call.call_id,\n",
    "    \"output\": str(result)\n",
    "})\n",
    "\n",
    "response_2 = client.responses.create(\n",
    "    model=\"gpt-4.1\",\n",
    "    input=input_messages,\n",
    "    tools=tools,\n",
    ")\n",
    "print(response_2.output_text)"
   ]
  },
  {
   "cell_type": "markdown",
   "metadata": {},
   "source": [
    "让我们来看一下现在的对话历史是什么了"
   ]
  },
  {
   "cell_type": "code",
   "execution_count": null,
   "metadata": {},
   "outputs": [],
   "source": [
    "for i, item in enumerate(input_messages):\n",
    "    print(f\"msg {i+1}: {item}\")"
   ]
  },
  {
   "cell_type": "markdown",
   "metadata": {},
   "source": [
    "# 1.4 Tool定义"
   ]
  },
  {
   "cell_type": "markdown",
   "metadata": {},
   "source": [
    "将工具函数的信息给大模型。 最重要的三个字段\n",
    "\n",
    "- name: 函数名称\n",
    "- description: 函数功能定义，明确、详细\n",
    "- parameters: 以json格式定义的函数入参，这样可以通过`**`魔法糖传参"
   ]
  },
  {
   "cell_type": "markdown",
   "metadata": {},
   "source": [
    "```\n",
    "{\n",
    "    \"type\": \"function\",\n",
    "    \"function\": {\n",
    "        \"name\": < 函数名称 >,\n",
    "        \"description\": < 函数描述 >,\n",
    "        \"parameters\": {\n",
    "            \"type\": \"object\",\n",
    "            \"properties\": {\n",
    "                <入参 1> : {\n",
    "                    \"type\": <入参1 类型>,\n",
    "                    \"description\": <入参1 描述>\n",
    "                },\n",
    "                \"<入参 2>\": {\n",
    "                    \"type\": \"string\",\n",
    "                    \"enum\": [\n",
    "                        \"celsius\",\n",
    "                        \"fahrenheit\"\n",
    "                    ], \n",
    "                    \"description\": <入参2 描述>\n",
    "                }\n",
    "            },\n",
    "            \"required\": [\n",
    "                 <入参 1>\n",
    "            ],\n",
    "            \"additionalProperties\": false\n",
    "        },\n",
    "        \"strict\": true\n",
    "    }\n",
    "}\n",
    "```"
   ]
  },
  {
   "cell_type": "markdown",
   "metadata": {},
   "source": [
    "### ？ 思考\n",
    "\n",
    "上面的函数定义中：\n",
    "- 总共定义了几个参数？\n",
    "- 有哪个参数是强制传入的，哪个参数可选"
   ]
  },
  {
   "cell_type": "markdown",
   "metadata": {},
   "source": [
    "# 2. 多函数选择"
   ]
  },
  {
   "cell_type": "markdown",
   "metadata": {},
   "source": [
    "## 2.1 定义邮件发送工具"
   ]
  },
  {
   "cell_type": "code",
   "execution_count": 2,
   "metadata": {},
   "outputs": [],
   "source": [
    "email_tool_config = {\n",
    "    \"type\": \"function\",\n",
    "    \"name\": \"send_email\",\n",
    "    \"description\": \"Send an email to the given recipient.\",\n",
    "    \"parameters\": {\n",
    "        \"type\": \"object\",\n",
    "        \"properties\": {\n",
    "            \"recipient\": {\"type\": \"string\"},\n",
    "            \"subject\": {\"type\": \"string\"},\n",
    "            \"body\": {\"type\": \"string\"}\n",
    "        },\n",
    "        \"required\": [\"recipient\", \"subject\", \"body\"],\n",
    "        \"additionalProperties\": False\n",
    "    },\n",
    "    \"strict\": True\n",
    "}"
   ]
  },
  {
   "cell_type": "code",
   "execution_count": 3,
   "metadata": {},
   "outputs": [],
   "source": [
    "weather_tool_config = {\n",
    "    \"type\": \"function\",\n",
    "    \"name\": \"get_weather\",\n",
    "    \"description\": \"Get current temperature for provided coordinates in celsius.\",\n",
    "    \"parameters\": {\n",
    "        \"type\": \"object\",\n",
    "        \"properties\": {\n",
    "            \"latitude\": {\"type\": \"number\"},\n",
    "            \"longitude\": {\"type\": \"number\"}\n",
    "        },\n",
    "        \"required\": [\"latitude\", \"longitude\"],\n",
    "        \"additionalProperties\": False\n",
    "    },\n",
    "    \"strict\": True\n",
    "}"
   ]
  },
  {
   "cell_type": "code",
   "execution_count": 4,
   "metadata": {},
   "outputs": [],
   "source": [
    "new_tools = [weather_tool_config, email_tool_config]"
   ]
  },
  {
   "cell_type": "code",
   "execution_count": null,
   "metadata": {},
   "outputs": [],
   "source": [
    "for i, tool in enumerate(new_tools):\n",
    "    print(f\"第 {i+1} 个工具\")\n",
    "    print(tool)"
   ]
  },
  {
   "cell_type": "markdown",
   "metadata": {},
   "source": [
    "## 2.2 多步执行"
   ]
  },
  {
   "cell_type": "code",
   "execution_count": 13,
   "metadata": {},
   "outputs": [],
   "source": [
    "new_input_messages = [{\"role\": \"user\", \"content\": \"查下北京的天气，然后给foo@bar.com发一封邮件告知内容\"}]\n",
    "\n",
    "\n",
    "response = client.responses.create(\n",
    "    model=\"gpt-4.1\",\n",
    "    input=new_input_messages,\n",
    "    tools=new_tools\n",
    ")\n"
   ]
  },
  {
   "cell_type": "code",
   "execution_count": null,
   "metadata": {},
   "outputs": [],
   "source": [
    "print(f\"返回 {len(response.output)}个结果\")\n",
    "for step in response.output:\n",
    "    print(f\"类型是 {step.type}\")\n",
    "    print(step)"
   ]
  },
  {
   "cell_type": "code",
   "execution_count": null,
   "metadata": {},
   "outputs": [],
   "source": [
    "for step in response.output:\n",
    "    new_input_messages.append(step)\n",
    "    result = eval(f\"{step.name}(**{step.arguments})\")\n",
    "    new_input_messages.append({                               # append result message\n",
    "        \"type\": \"function_call_output\",\n",
    "        \"call_id\": step.call_id,\n",
    "        \"output\": str(result)\n",
    "    })"
   ]
  },
  {
   "cell_type": "code",
   "execution_count": 15,
   "metadata": {},
   "outputs": [],
   "source": [
    "response_2 = client.responses.create(\n",
    "    model=\"gpt-4.1\",\n",
    "    input=new_input_messages,\n",
    "    tools=new_tools,\n",
    ")"
   ]
  },
  {
   "cell_type": "code",
   "execution_count": null,
   "metadata": {},
   "outputs": [],
   "source": [
    "print(f\"返回{len(response_2.output)}个结果\")\n",
    "for step in response_2.output:\n",
    "    print(f\"类型是 {step.type}\")\n",
    "    print(step)"
   ]
  },
  {
   "cell_type": "code",
   "execution_count": null,
   "metadata": {},
   "outputs": [],
   "source": [
    "print(f\"id是 {response.output[0].id}, call_id是 {response.output[0].call_id}\")\n",
    "print(f\"id是 {response_2.output[0].id}, call_id是 {response_2.output[0].call_id}\")"
   ]
  },
  {
   "cell_type": "markdown",
   "metadata": {},
   "source": [
    "### ? 思考\n",
    "\n",
    "你观察到什么？LLM是怎么管理上下文的"
   ]
  },
  {
   "cell_type": "code",
   "execution_count": 18,
   "metadata": {},
   "outputs": [],
   "source": [
    "def send_email(recipient:str, subject:str, body:str)->str:\n",
    "    return \"execution failed. recipient is not valid\""
   ]
  },
  {
   "cell_type": "code",
   "execution_count": 19,
   "metadata": {},
   "outputs": [],
   "source": [
    "for step in response_2.output:\n",
    "    new_input_messages.append(step)\n",
    "    result = eval(f\"{step.name}(**{step.arguments})\")\n",
    "    new_input_messages.append({                               # append result message\n",
    "        \"type\": \"function_call_output\",\n",
    "        \"call_id\": step.call_id,\n",
    "        \"output\": str(result)\n",
    "    })"
   ]
  },
  {
   "cell_type": "code",
   "execution_count": 20,
   "metadata": {},
   "outputs": [],
   "source": [
    "response_3 = client.responses.create(\n",
    "    model=\"gpt-4.1\",\n",
    "    input=new_input_messages,\n",
    "    tools=new_tools,\n",
    ")"
   ]
  },
  {
   "cell_type": "code",
   "execution_count": null,
   "metadata": {},
   "outputs": [],
   "source": [
    "print(f\"返回{len(response_3.output)}个结果\")\n",
    "for step in response_3.output:\n",
    "    print(f\"类型是 {step.type}\")\n",
    "    print(step)"
   ]
  },
  {
   "cell_type": "code",
   "execution_count": null,
   "metadata": {},
   "outputs": [],
   "source": [
    "print(response_3.output_text)\n"
   ]
  },
  {
   "cell_type": "markdown",
   "metadata": {},
   "source": [
    "# 3. **M**odel **C**ontext **P**rotocal"
   ]
  },
  {
   "cell_type": "markdown",
   "metadata": {},
   "source": [
    "有一些通用工具，不要重复造轮子，能不能提供一共公用的工具定义函数？\n",
    "\n",
    "这就是MCP"
   ]
  },
  {
   "cell_type": "markdown",
   "metadata": {},
   "source": [
    "OpenAI API对于MCP的支持 kinda sucks（as of 25年6月），而Claude在国内非常难获得，所以MCP不作代码演示。\n",
    "\n",
    "好在Cursor对于MCP的支持很好，所以我可以在Cursor中给大家演示\n",
    "\n",
    "下面从[MCP图鉴](https://mcp.so/)里 引用[HowToCook](https://mcp.so/server/howtocook-mcp/worryzyy?tab=tools)这个MCP，解决“今晚吃什么”的世纪难题\n",
    "```\n",
    "npm install -g howtocook-mcp\n",
    "```\n",
    "\n",
    "然后去Cursor Settings -> MCP Tools，粘贴以下代码\n",
    "\n",
    "```\n",
    "{\n",
    "  \"mcpServers\": {\n",
    "    \"howtocook-mcp\": {\n",
    "      \"command\": \"npx\",\n",
    "      \"args\": [\n",
    "        \"-y\",\n",
    "        \"howtocook-mcp\"\n",
    "      ]\n",
    "    }\n",
    "  }\n",
    "}\n",
    "```\n",
    "\n",
    "然后打开大模型聊天页面，输入世纪难题"
   ]
  },
  {
   "cell_type": "markdown",
   "metadata": {},
   "source": [
    "# 4. 工程化\n",
    "\n",
    "虽然上面我们已经实现了一个ReAct Agent，但是我们现在的定义方式不利于进一步扩展我们的服务。\n",
    "\n",
    "因此，我们需要对于Agent进行一些“抽象”和“封装”。 事实上有大量的Agent框架可以选择，我们完全不必要自己造轮子，但是为了能够让大家体验一下“手搓”Agent，我在这里提供一个代码框架"
   ]
  },
  {
   "cell_type": "markdown",
   "metadata": {},
   "source": [
    "```\n",
    "agent_tutorial\n",
    "| - __init__.py  # 函数包的标识\n",
    "| - tools.py           # 配置函数\n",
    "| - tool_config.py  # 配置openai的tools config\n",
    "| - agent.py        # Agent业务逻辑 \n",
    "```"
   ]
  }
 ],
 "metadata": {
  "kernelspec": {
   "display_name": "genai2025-EbBYtNEX-py3.11",
   "language": "python",
   "name": "python3"
  },
  "language_info": {
   "codemirror_mode": {
    "name": "ipython",
    "version": 3
   },
   "file_extension": ".py",
   "mimetype": "text/x-python",
   "name": "python",
   "nbconvert_exporter": "python",
   "pygments_lexer": "ipython3",
   "version": "3.11.2"
  }
 },
 "nbformat": 4,
 "nbformat_minor": 2
}
