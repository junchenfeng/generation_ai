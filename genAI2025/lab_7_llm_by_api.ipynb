{
 "cells": [
  {
   "cell_type": "markdown",
   "metadata": {},
   "source": [
    "# Lab 5: LLM by API"
   ]
  },
  {
   "cell_type": "markdown",
   "metadata": {},
   "source": [
    "# 1. LLM API"
   ]
  },
  {
   "cell_type": "code",
   "execution_count": 9,
   "metadata": {},
   "outputs": [],
   "source": [
    "import os\n",
    "from dotenv import load_dotenv\n",
    "\n",
    "load_dotenv()  # 敏感信息不能明文展示\n",
    "api_key = os.getenv('OPENAI_API_KEY')"
   ]
  },
  {
   "cell_type": "markdown",
   "metadata": {},
   "source": [
    "## 1.1 基础API"
   ]
  },
  {
   "cell_type": "code",
   "execution_count": null,
   "metadata": {},
   "outputs": [],
   "source": [
    "from openai import OpenAI\n",
    "\n",
    "client = OpenAI(\n",
    "            api_key=api_key,\n",
    "            base_url=\"https://api.aaaapi.com/v1\"\n",
    "        )\n",
    "# 创建一个简单的聊天完成请求\n",
    "user_prompt = \"你好,请介绍一下你自己\"\n",
    "\n",
    "response = client.chat.completions.create(\n",
    "    model=\"gpt-4.1\",  # gemini-2.5-flash-preview-05-20, gpt-4o (注意.)\n",
    "    messages=[\n",
    "        {\"role\": \"user\", \"content\": user_prompt}\n",
    "    ]\n",
    ")\n",
    "\n",
    "\n",
    "# 测试代码\n",
    "print(f\"用户: {user_prompt}\")\n",
    "print(f\"AI助手: {response.choices[0].message.content}\")\n"
   ]
  },
  {
   "cell_type": "markdown",
   "metadata": {},
   "source": [
    "## side: Langchain\n",
    "\n",
    "Langchain是一个封装后的工具。对于工程化有兴趣的同学可以去研究。某些Agent包也会使用Langchain的接口"
   ]
  },
  {
   "cell_type": "code",
   "execution_count": null,
   "metadata": {},
   "outputs": [],
   "source": [
    "%pip install -qU langchain-openai"
   ]
  },
  {
   "cell_type": "code",
   "execution_count": null,
   "metadata": {},
   "outputs": [],
   "source": [
    "from langchain_openai import ChatOpenAI\n",
    "\n",
    "llm = ChatOpenAI(\n",
    "    model=\"gpt-4o\",\n",
    "    temperature=0,\n",
    "    api_key=api_key,\n",
    "    base_url=\"https://api.aaaapi.com/v1\"\n",
    ")\n",
    "\n",
    "print(f\"用户: {user_prompt}\")\n",
    "print(f\"AI助手: {llm.invoke(user_prompt).content}\")"
   ]
  },
  {
   "cell_type": "markdown",
   "metadata": {},
   "source": [
    "## 1.2 调用推理模型\n",
    "\n",
    "学习使用[官方tutorial](https://platform.openai.com/docs/guides/reasoning?api-mode=chat)"
   ]
  },
  {
   "cell_type": "code",
   "execution_count": null,
   "metadata": {},
   "outputs": [],
   "source": [
    "prompt = \"\"\"\n",
    "今有雉兔同笼，上有三十五头，下有九十四足，问鸡兔各几何\n",
    "\"\"\"\n",
    "response = client.chat.completions.create(\n",
    "    model=\"o1-mini\", # 推荐测试用 o1-mini, 实际使用o3-mini,\n",
    "    messages=[\n",
    "        {\n",
    "            \"role\": \"user\", \n",
    "            \"content\": prompt\n",
    "        }\n",
    "    ],\n",
    "    \n",
    ")\n",
    "\n",
    "assistant_reply = response.choices[0].message.content\n",
    "\n",
    "\n",
    "# 测试代码\n",
    "print(f\"用户: {prompt}\")\n",
    "print(f\"AI助手: {assistant_reply}\")"
   ]
  },
  {
   "cell_type": "code",
   "execution_count": null,
   "metadata": {},
   "outputs": [],
   "source": [
    "response.choices[0]"
   ]
  },
  {
   "cell_type": "markdown",
   "metadata": {},
   "source": [
    "系统提示词会改变整个LLM的应答行为。在Agent体系中，Agent的角色逻辑会被写到System Prompt里"
   ]
  },
  {
   "cell_type": "code",
   "execution_count": null,
   "metadata": {},
   "outputs": [],
   "source": [
    "system_prompt = \"你是一个谜语人，总是用谜语来对话。谜底必须对应用户的答案\"\n",
    "response = client.chat.completions.create(\n",
    "    model=\"gpt-4.1\",  \n",
    "    messages=[\n",
    "        {\"role\": \"system\", \"content\": system_prompt},  # 系统提示词是第一个加载的\n",
    "        {\"role\": \"user\", \"content\": user_prompt}\n",
    "    ]\n",
    ")\n",
    "# 返回助手的回复\n",
    "assistant_reply = response.choices[0].message.content\n",
    "\n",
    "\n",
    "# 测试代码\n",
    "print(f\"用户: {user_prompt}\")\n",
    "print(f\"AI助手: {assistant_reply}\")"
   ]
  },
  {
   "cell_type": "markdown",
   "metadata": {},
   "source": [
    "增加对话上下文"
   ]
  },
  {
   "cell_type": "code",
   "execution_count": null,
   "metadata": {},
   "outputs": [],
   "source": [
    "response = client.chat.completions.create(\n",
    "    model=\"gpt-4.1\",  \n",
    "    messages=[\n",
    "        {\"role\": \"system\", \"content\": system_prompt},  # 系统提示词是第一个加载的\n",
    "        {\"role\": \"user\", \"content\": user_prompt},\n",
    "        {\"role\": \"assistant\", \"content\": \"我是一本无字之书，读来似懂非懂。无需打开，便在手中展现玄机。这书名是啥？\"},\n",
    "        {\"role\": \"user\", \"content\": \"难道你是天书？\"}\n",
    "    ]\n",
    ")\n",
    "\n",
    "print(f\"用户: 难道你是天书？\")\n",
    "print(f\"AI助手: {response.choices[0].message.content}\")"
   ]
  },
  {
   "cell_type": "markdown",
   "metadata": {},
   "source": [
    "提问，当我们说Prompt Engineering时，我们说的是什么？\n",
    "- A: System Prompt\n",
    "- B: 1st User Prompt\n",
    "- C: All User Prompt\n",
    "- D: Chat History?"
   ]
  },
  {
   "cell_type": "markdown",
   "metadata": {},
   "source": [
    "# 2. 多模态大模型"
   ]
  },
  {
   "cell_type": "markdown",
   "metadata": {},
   "source": [
    "## 2.1 图像理解"
   ]
  },
  {
   "cell_type": "code",
   "execution_count": null,
   "metadata": {},
   "outputs": [],
   "source": [
    "# Display the image\n",
    "file_path = \"data/test_img.png\"\n",
    "from IPython.display import Image\n",
    "Image(filename=file_path)"
   ]
  },
  {
   "cell_type": "code",
   "execution_count": 32,
   "metadata": {},
   "outputs": [],
   "source": [
    "import base64\n",
    "# Read and encode the image\n",
    "local_img_payload = \"data:image/png;base64,\" + base64.b64encode(open(file_path, \"rb\").read()).decode('utf-8')"
   ]
  },
  {
   "cell_type": "code",
   "execution_count": null,
   "metadata": {},
   "outputs": [],
   "source": [
    "\n",
    "# Create vision completion\n",
    "response = client.chat.completions.create(\n",
    "    model=\"gpt-4.1\",\n",
    "    messages=[\n",
    "        {\n",
    "            \"role\": \"user\",\n",
    "            \"content\": [\n",
    "                {\n",
    "                    \"type\": \"text\", \n",
    "                    \"text\": \"Why is this comic funny? Please explain the humor in chinese\"\n",
    "                },\n",
    "                {\n",
    "                    \"type\": \"image_url\",\n",
    "                    \"image_url\": {\n",
    "                        \"url\": local_img_payload\n",
    "                    }\n",
    "                }\n",
    "            ]\n",
    "        }\n",
    "    ],\n",
    "    max_tokens=300  # 控制输出长度\n",
    ")\n",
    "\n",
    "print(response.choices[0].message.content)"
   ]
  },
  {
   "cell_type": "markdown",
   "metadata": {},
   "source": [
    "## 2.2 图像生成"
   ]
  },
  {
   "cell_type": "markdown",
   "metadata": {},
   "source": [
    "学习使用[官方文档](https://platform.openai.com/docs/guides/images-vision?api-mode=chat)"
   ]
  },
  {
   "cell_type": "code",
   "execution_count": 35,
   "metadata": {},
   "outputs": [],
   "source": [
    "import base64\n",
    "\n",
    "img = client.images.generate(\n",
    "    model=\"gpt-image-1\",\n",
    "    prompt=\"A cute baby sea otter\",\n",
    "    n=1,\n",
    "    size=\"1024x1024\"\n",
    ")\n",
    "\n",
    "image_bytes = base64.b64decode(img.data[0].b64_json)\n",
    "\n"
   ]
  },
  {
   "cell_type": "code",
   "execution_count": null,
   "metadata": {},
   "outputs": [],
   "source": [
    "# 先从内存中显示生成的图片\n",
    "from IPython.display import Image, display\n",
    "\n",
    "# 直接从内存中的字节数据显示\n",
    "display(Image(data=image_bytes))\n",
    "\n",
    "print(\"图片已从内存显示完成！\")\n"
   ]
  },
  {
   "cell_type": "code",
   "execution_count": null,
   "metadata": {},
   "outputs": [],
   "source": [
    "with open(\"output.png\", \"wb\") as f:\n",
    "    f.write(image_bytes)\n",
    "\n",
    "print(\"图片已保存到 output.png 文件！\")"
   ]
  },
  {
   "cell_type": "markdown",
   "metadata": {},
   "source": [
    "## 2.3 如何让cursor读取外部信息\n",
    "\n",
    "点击\"@web\"启用搜索功能（不是很好用）\n",
    "\n",
    "点击\"@\"符号，增加docs url。很多库有api docs"
   ]
  },
  {
   "cell_type": "markdown",
   "metadata": {},
   "source": [
    "# 3. Now You Try!"
   ]
  },
  {
   "cell_type": "markdown",
   "metadata": {},
   "source": [
    "让GPT帮你生成一个故事的4个分镜，然后调用gpt-image-1生成4张图。\n",
    "\n",
    "**NOTE**\n",
    "- 如果你想独立做agent项目，不要使用Cursor自动生成代码\n",
    "- HINT：使用json mode 来确定分镜的数据结构，然后循环调用 images接口"
   ]
  },
  {
   "cell_type": "markdown",
   "metadata": {},
   "source": [
    "## 挑战题\n",
    "\n",
    "让cursor帮你设计一个以静态网页存储的绘本。绘本里有图片和文字。"
   ]
  }
 ],
 "metadata": {
  "kernelspec": {
   "display_name": "genai2025-EbBYtNEX-py3.11",
   "language": "python",
   "name": "python3"
  },
  "language_info": {
   "codemirror_mode": {
    "name": "ipython",
    "version": 3
   },
   "file_extension": ".py",
   "mimetype": "text/x-python",
   "name": "python",
   "nbconvert_exporter": "python",
   "pygments_lexer": "ipython3",
   "version": "3.11.2"
  }
 },
 "nbformat": 4,
 "nbformat_minor": 2
}
