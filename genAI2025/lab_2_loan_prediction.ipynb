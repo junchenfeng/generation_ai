{
 "cells": [
  {
   "cell_type": "markdown",
   "metadata": {},
   "source": [
    "# Lab 2: 机器学习入门：贷款申请预测\n",
    "\n",
    "在这个项目中，我们将学习如何使用机器学习来预测银行是否会批准贷款申请。\n",
    "\n",
    "我们将学习以下内容：\n",
    "1. 数据探索和可视化（EDA）\n",
    "2. ML pipeline\n",
    "3. 如何评估模型性能"
   ]
  },
  {
   "cell_type": "markdown",
   "metadata": {},
   "source": [
    "# 1. 理论复习\n",
    "\n",
    "你准备考TOFEL，下面是你可以选择的一些备考方案（Policy）\n",
    "1. 去庙里求个签\n",
    "2. 买本书回家自己刷\n",
    "3. 报个新东方培训班\n",
    "4. 请个私教\n",
    "\n",
    "### 问题\n",
    "\n",
    "1. 在这个背景里，你的优化目标是什么？\n",
    "2. 你的训练损失是什么？你的泛化损失是什么？\n",
    "3. 在这个背景下，你的feature set是什么？\n",
    "4. 你通过背答案，在模拟考上得了很高分，但是在真实考试中却一塌胡涂。这种现象在机器学习里叫什么？\n",
    "5. 为什么有人会花钱去国外参加考机考？而不是在国内做笔试？\n",
    "6. 【挑战题】什么是VC维？(VC维刻画的是什么？)。为什么从1到4的VC维不断升高？"
   ]
  },
  {
   "cell_type": "markdown",
   "metadata": {},
   "source": [
    "**Trick**设置中文字体"
   ]
  },
  {
   "cell_type": "code",
   "execution_count": 12,
   "metadata": {},
   "outputs": [],
   "source": [
    "import matplotlib.pyplot as plt\n",
    "# 设置中文字体\n",
    "try:\n",
    "    plt.rcParams['font.sans-serif'] = ['Heiti TC'] # 或者 'Arial Unicode MS', 'PingFang SC' 等\n",
    "    plt.rcParams['axes.unicode_minus'] = False\n",
    "except Exception as e:\n",
    "    print(f\"设置中文字体失败: {e}。标签可能显示不正确。\")"
   ]
  },
  {
   "cell_type": "markdown",
   "metadata": {},
   "source": [
    "# 2. 探索性数据分析（**E**xploratory **D**ata **A**nalysis）"
   ]
  },
  {
   "cell_type": "markdown",
   "metadata": {},
   "source": [
    "## 2.1 Context \n",
    "\n",
    "### 2.1.1 元数据(Metadata)\n",
    "| Column | Description | Type |\n",
    "|--------|-------------|------|\n",
    "| person_age | Age of the person | Float |\n",
    "| person_gender | Gender of the person | Categorical |\n",
    "| person_education | Highest education level | Categorical |\n",
    "| person_income | Annual income | Float |\n",
    "| person_emp_exp | Years of employment experience | Integer |\n",
    "| person_home_ownership | Home ownership status (e.g., rent, own, mortgage) | Categorical |\n",
    "| loan_amnt | Loan amount requested | Float |\n",
    "| loan_intent | Purpose of the loan | Categorical |\n",
    "| loan_int_rate | Loan interest rate | Float |\n",
    "| cb_person_cred_hist_length | Length of credit history in years | Float |\n",
    "| credit_score | Credit score of the person | Integer |\n",
    "| previous_loan_defaults_on_file | Indicator of previous loan defaults | Categorical |\n",
    "| loan_status (target variable) | Loan approval status: 1 = approved; 0 = rejected | Integer |"
   ]
  },
  {
   "cell_type": "markdown",
   "metadata": {},
   "source": [
    "### 2.1.2 提供技术环境信息\n",
    "\n",
    "- 请使用pandas， matplotlib， sklearn这三个python package（也可以在mdc文件中设置）\n",
    "\n",
    "- 项目目录结构\n",
    "```\n",
    "|\n",
    "|- data // 数据目录\n",
    "|   |-- loan_data.csv\n",
    "|- lab.ipynb\n",
    "```"
   ]
  },
  {
   "cell_type": "code",
   "execution_count": null,
   "metadata": {},
   "outputs": [],
   "source": [
    "# 一般import package都独立置顶"
   ]
  },
  {
   "cell_type": "markdown",
   "metadata": {},
   "source": [
    "## 2.3 数据探索分析（EDA）"
   ]
  },
  {
   "cell_type": "markdown",
   "metadata": {},
   "source": [
    "请用这个提示词去生成EDA代码。 模式选择 **“Ask”**，模型调整为Gemini-2.5-pro，打开max模式，充分释放模型能力\n",
    "```\n",
    "请读取load data数据，生成EDA方案帮我熟悉这个数据集，为预测做准备。请先不要生成代码\n",
    "```\n",
    "在chat中和gemini达成一致后，让它生成多个code block，以便于你在notebook中执行和判断"
   ]
  },
  {
   "cell_type": "markdown",
   "metadata": {},
   "source": [
    "*NOTE*: \n",
    "1. 目前cursor对于jupyter notebook插入支持不好，经常翻车，所以选择ask模式更加实际。 此外，数据分析主要是探索和思考，有大量人机合作，所以agent模式的自动执行助力也不大\n",
    "\n",
    "2. 一般package import和环境变量设置会放在最上层单独一个code cell；但是这里未来让大家看清楚各个包在哪里使用，所以拆开了"
   ]
  },
  {
   "cell_type": "markdown",
   "metadata": {},
   "source": [
    "**挑战题** 你发现了什么有意思的模式么？"
   ]
  },
  {
   "cell_type": "markdown",
   "metadata": {},
   "source": [
    "## 3. 数据预处理\n",
    "\n",
    "任务1: 将分类变量进行One-Hot编码，分类变量包括性别, 教育水平, 购房情况, 贷款意图, 是否曾经违约\n",
    "\n",
    "任务2: 按照7:3分离训练集和测试集"
   ]
  },
  {
   "cell_type": "markdown",
   "metadata": {},
   "source": [
    "## 4. 模型训练\n",
    "\n",
    "### 4.1 基础训练\n",
    "#### 4.1.1 代码\n",
    "\n",
    "\n",
    "在训练集上训练一个决策树模型，给出F1-score和AUC两个评价指标，并画出ROC曲线\n",
    "\n"
   ]
  },
  {
   "cell_type": "markdown",
   "metadata": {},
   "source": [
    "测试集上给出F1-score和AUC两个评价指标，并画出ROC曲线"
   ]
  },
  {
   "cell_type": "markdown",
   "metadata": {},
   "source": [
    "#### 4.1.2 讨论\n",
    "\n",
    "根据这个数据，你会做什么决策？"
   ]
  },
  {
   "cell_type": "markdown",
   "metadata": {},
   "source": [
    "### 4.2 Cross Validation & Parameter Tuning\n",
    "\n",
    "#### 4.2.1 训练过程\n",
    "\n",
    "使用5 fold cross validation来做decision tree classifer的优化。\n",
    "\n",
    "请对于criterion，max_depth，min_samples_split和min_samples_leaf这四个parameter的grid search，评分方法是roc_auc。"
   ]
  },
  {
   "cell_type": "markdown",
   "metadata": {},
   "source": [
    "#### 4.2.2 讨论\n",
    "\n",
    "根据这个数据，你会做什么决策？"
   ]
  },
  {
   "cell_type": "markdown",
   "metadata": {},
   "source": [
    "## 5. 总结\n",
    "\n",
    "1. 学习了机器学习的基本过程：EDA -> 数据预处理 -> Parameter Choice\n",
    "2. 学习了如何使用F1-score & AUC来评估模型表现，并进行训练决策\n",
    "3. 学习了如何利用Gemini来进行辅助和代码执行\n",
    "\n",
    "机器学习是一个技术（technique）和手感（craftmanship）相结合的过程。成熟的工具包和LLM极大降低了technique达到合格水平的难度，因此模型表现更多来自手感。\n",
    "\n",
    "下一个lab，我们会讨论如何code 手感，kind of"
   ]
  },
  {
   "cell_type": "markdown",
   "metadata": {},
   "source": [
    "# 回家作业\n",
    "\n",
    "对kaggle数据集中的train.csv进行EDA，以及利用决策树的预测，并在test上评估你的模型。我预期你在test上的AUC在0.7-0.75之间"
   ]
  }
 ],
 "metadata": {
  "kernelspec": {
   "display_name": "genai2025-EbBYtNEX-py3.11",
   "language": "python",
   "name": "python3"
  },
  "language_info": {
   "codemirror_mode": {
    "name": "ipython",
    "version": 3
   },
   "file_extension": ".py",
   "mimetype": "text/x-python",
   "name": "python",
   "nbconvert_exporter": "python",
   "pygments_lexer": "ipython3",
   "version": "3.11.2"
  }
 },
 "nbformat": 4,
 "nbformat_minor": 2
}
